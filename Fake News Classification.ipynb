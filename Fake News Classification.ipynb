{
 "cells": [
  {
   "cell_type": "markdown",
   "metadata": {},
   "source": [
    "# Fake News Detection\n",
    "### Introduction to AI Final Project\n",
    "### Audrey Zhang, Priyanka Raja, Matt Oldfield"
   ]
  },
  {
   "cell_type": "markdown",
   "metadata": {},
   "source": [
    "This project seeks to leverage natural language processing and machine learning to create an algorithm that can identify fake news. The dataset includes around 6000 observations of both fake and real news. The most common news topic is politics.\n",
    "\n",
    "Methods used including: \n",
    "\n",
    "- tokenization\n",
    "- lemmatization\n",
    "- stopword removal\n",
    "- sentiment analysis \n",
    "- topic modeling using LDA\n",
    "- word embeddings using word2vec (pre-trained Google News)\n",
    "- TFIDF word vectorization\n",
    "\n",
    "\n",
    "Models used include: \n",
    "\n",
    "- Logistic regression\n",
    "- Naive Bayes\n",
    "- Decision Trees\n",
    "- Random Forest\n",
    "- XGBoost\n",
    "- Multi-layer Perceptron (MLP) Classifier\n",
    "- Long-short-term-memory (LSTM) neural nets\n",
    "- Support Vector Machines\n",
    "- BERT/RoBERTa\n",
    "\n",
    "Outcomes evaluated using:\n",
    "- confusion matrix\n",
    "- F-1 scores\n",
    "- AUC-ROC curves"
   ]
  },
  {
   "cell_type": "code",
   "execution_count": 50,
   "metadata": {},
   "outputs": [
    {
     "name": "stdout",
     "output_type": "stream",
     "text": [
      "Requirement already satisfied: contractions in c:\\users\\audre\\anaconda3\\lib\\site-packages (0.0.25)\n",
      "Requirement already satisfied: textsearch in c:\\users\\audre\\anaconda3\\lib\\site-packages (from contractions) (0.0.17)\n",
      "Requirement already satisfied: pyahocorasick in c:\\users\\audre\\anaconda3\\lib\\site-packages (from textsearch->contractions) (1.4.0)\n",
      "Requirement already satisfied: Unidecode in c:\\users\\audre\\anaconda3\\lib\\site-packages (from textsearch->contractions) (1.1.1)\n",
      "Requirement already satisfied: sklearn-pandas in c:\\users\\audre\\anaconda3\\lib\\site-packages (2.0.3)\n",
      "Requirement already satisfied: pandas>=1.0.5 in c:\\users\\audre\\anaconda3\\lib\\site-packages (from sklearn-pandas) (1.0.5)\n",
      "Requirement already satisfied: scipy>=1.4.1 in c:\\users\\audre\\anaconda3\\lib\\site-packages (from sklearn-pandas) (1.5.0)\n",
      "Requirement already satisfied: scikit-learn>=0.23.0 in c:\\users\\audre\\anaconda3\\lib\\site-packages (from sklearn-pandas) (0.23.1)\n",
      "Requirement already satisfied: numpy>=1.18.1 in c:\\users\\audre\\anaconda3\\lib\\site-packages (from sklearn-pandas) (1.18.5)\n",
      "Requirement already satisfied: python-dateutil>=2.6.1 in c:\\users\\audre\\anaconda3\\lib\\site-packages (from pandas>=1.0.5->sklearn-pandas) (2.8.1)\n",
      "Requirement already satisfied: pytz>=2017.2 in c:\\users\\audre\\anaconda3\\lib\\site-packages (from pandas>=1.0.5->sklearn-pandas) (2020.1)\n",
      "Requirement already satisfied: joblib>=0.11 in c:\\users\\audre\\anaconda3\\lib\\site-packages (from scikit-learn>=0.23.0->sklearn-pandas) (0.15.1)\n",
      "Requirement already satisfied: threadpoolctl>=2.0.0 in c:\\users\\audre\\anaconda3\\lib\\site-packages (from scikit-learn>=0.23.0->sklearn-pandas) (2.1.0)\n",
      "Requirement already satisfied: six>=1.5 in c:\\users\\audre\\anaconda3\\lib\\site-packages (from python-dateutil>=2.6.1->pandas>=1.0.5->sklearn-pandas) (1.15.0)\n",
      "Requirement already satisfied: wordcloud in c:\\users\\audre\\anaconda3\\lib\\site-packages (1.8.1)\n",
      "Requirement already satisfied: matplotlib in c:\\users\\audre\\anaconda3\\lib\\site-packages (from wordcloud) (3.2.2)\n",
      "Requirement already satisfied: numpy>=1.6.1 in c:\\users\\audre\\anaconda3\\lib\\site-packages (from wordcloud) (1.18.5)\n",
      "Requirement already satisfied: pillow in c:\\users\\audre\\anaconda3\\lib\\site-packages (from wordcloud) (7.1.2)\n",
      "Requirement already satisfied: python-dateutil>=2.1 in c:\\users\\audre\\anaconda3\\lib\\site-packages (from matplotlib->wordcloud) (2.8.1)\n",
      "Requirement already satisfied: cycler>=0.10 in c:\\users\\audre\\anaconda3\\lib\\site-packages (from matplotlib->wordcloud) (0.10.0)\n",
      "Requirement already satisfied: pyparsing!=2.0.4,!=2.1.2,!=2.1.6,>=2.0.1 in c:\\users\\audre\\anaconda3\\lib\\site-packages (from matplotlib->wordcloud) (2.4.7)\n",
      "Requirement already satisfied: kiwisolver>=1.0.1 in c:\\users\\audre\\anaconda3\\lib\\site-packages (from matplotlib->wordcloud) (1.2.0)\n",
      "Requirement already satisfied: six>=1.5 in c:\\users\\audre\\anaconda3\\lib\\site-packages (from python-dateutil>=2.1->matplotlib->wordcloud) (1.15.0)\n"
     ]
    },
    {
     "name": "stderr",
     "output_type": "stream",
     "text": [
      "[nltk_data] Downloading package stopwords to\n",
      "[nltk_data]     C:\\Users\\audre\\AppData\\Roaming\\nltk_data...\n",
      "[nltk_data]   Package stopwords is already up-to-date!\n",
      "[nltk_data] Downloading package punkt to\n",
      "[nltk_data]     C:\\Users\\audre\\AppData\\Roaming\\nltk_data...\n",
      "[nltk_data]   Package punkt is already up-to-date!\n",
      "[nltk_data] Downloading package vader_lexicon to\n",
      "[nltk_data]     C:\\Users\\audre\\AppData\\Roaming\\nltk_data...\n",
      "[nltk_data]   Package vader_lexicon is already up-to-date!\n",
      "[nltk_data] Downloading package wordnet to\n",
      "[nltk_data]     C:\\Users\\audre\\AppData\\Roaming\\nltk_data...\n",
      "[nltk_data]   Package wordnet is already up-to-date!\n"
     ]
    }
   ],
   "source": [
    "#! /bin/env/python3\n",
    "!pip install contractions\n",
    "!pip install sklearn-pandas\n",
    "!pip install wordcloud\n",
    "import html\n",
    "import gensim\n",
    "import matplotlib.pyplot as plt\n",
    "import numpy as np\n",
    "import pandas as pd\n",
    "import nltk\n",
    "from nltk.tokenize import word_tokenize\n",
    "nltk.download('stopwords')\n",
    "from nltk.corpus import stopwords \n",
    "nltk.download('punkt')\n",
    "from nltk.sentiment.vader import SentimentIntensityAnalyzer\n",
    "nltk.download('vader_lexicon')\n",
    "from nltk.stem import WordNetLemmatizer \n",
    "from contractions import contractions_dict\n",
    "from sklearn.feature_extraction.text import TfidfVectorizer\n",
    "from wordcloud import WordCloud, STOPWORDS\n",
    "nltk.download('wordnet')\n",
    "from sklearn.model_selection import train_test_split\n",
    "from sklearn.metrics import confusion_matrix, accuracy_score\n",
    "import warnings\n",
    "%matplotlib inline\n",
    "warnings.filterwarnings('ignore')\n",
    "import seaborn as sns"
   ]
  },
  {
   "cell_type": "code",
   "execution_count": 2,
   "metadata": {},
   "outputs": [
    {
     "name": "stdout",
     "output_type": "stream",
     "text": [
      "<class 'pandas.core.frame.DataFrame'>\n",
      "RangeIndex: 6335 entries, 0 to 6334\n",
      "Data columns (total 4 columns):\n",
      " #   Column      Non-Null Count  Dtype \n",
      "---  ------      --------------  ----- \n",
      " 0   Unnamed: 0  6335 non-null   int64 \n",
      " 1   title       6335 non-null   object\n",
      " 2   text        6335 non-null   object\n",
      " 3   label       6335 non-null   object\n",
      "dtypes: int64(1), object(3)\n",
      "memory usage: 198.1+ KB\n"
     ]
    },
    {
     "data": {
      "text/html": [
       "<div>\n",
       "<style scoped>\n",
       "    .dataframe tbody tr th:only-of-type {\n",
       "        vertical-align: middle;\n",
       "    }\n",
       "\n",
       "    .dataframe tbody tr th {\n",
       "        vertical-align: top;\n",
       "    }\n",
       "\n",
       "    .dataframe thead th {\n",
       "        text-align: right;\n",
       "    }\n",
       "</style>\n",
       "<table border=\"1\" class=\"dataframe\">\n",
       "  <thead>\n",
       "    <tr style=\"text-align: right;\">\n",
       "      <th></th>\n",
       "      <th>Unnamed: 0</th>\n",
       "      <th>title</th>\n",
       "      <th>text</th>\n",
       "      <th>label</th>\n",
       "    </tr>\n",
       "  </thead>\n",
       "  <tbody>\n",
       "    <tr>\n",
       "      <th>0</th>\n",
       "      <td>8476</td>\n",
       "      <td>You Can Smell Hillary’s Fear</td>\n",
       "      <td>Daniel Greenfield, a Shillman Journalism Fello...</td>\n",
       "      <td>FAKE</td>\n",
       "    </tr>\n",
       "    <tr>\n",
       "      <th>1</th>\n",
       "      <td>10294</td>\n",
       "      <td>Watch The Exact Moment Paul Ryan Committed Pol...</td>\n",
       "      <td>Google Pinterest Digg Linkedin Reddit Stumbleu...</td>\n",
       "      <td>FAKE</td>\n",
       "    </tr>\n",
       "    <tr>\n",
       "      <th>2</th>\n",
       "      <td>3608</td>\n",
       "      <td>Kerry to go to Paris in gesture of sympathy</td>\n",
       "      <td>U.S. Secretary of State John F. Kerry said Mon...</td>\n",
       "      <td>REAL</td>\n",
       "    </tr>\n",
       "    <tr>\n",
       "      <th>3</th>\n",
       "      <td>10142</td>\n",
       "      <td>Bernie supporters on Twitter erupt in anger ag...</td>\n",
       "      <td>— Kaydee King (@KaydeeKing) November 9, 2016 T...</td>\n",
       "      <td>FAKE</td>\n",
       "    </tr>\n",
       "    <tr>\n",
       "      <th>4</th>\n",
       "      <td>875</td>\n",
       "      <td>The Battle of New York: Why This Primary Matters</td>\n",
       "      <td>It's primary day in New York and front-runners...</td>\n",
       "      <td>REAL</td>\n",
       "    </tr>\n",
       "  </tbody>\n",
       "</table>\n",
       "</div>"
      ],
      "text/plain": [
       "   Unnamed: 0                                              title  \\\n",
       "0        8476                       You Can Smell Hillary’s Fear   \n",
       "1       10294  Watch The Exact Moment Paul Ryan Committed Pol...   \n",
       "2        3608        Kerry to go to Paris in gesture of sympathy   \n",
       "3       10142  Bernie supporters on Twitter erupt in anger ag...   \n",
       "4         875   The Battle of New York: Why This Primary Matters   \n",
       "\n",
       "                                                text label  \n",
       "0  Daniel Greenfield, a Shillman Journalism Fello...  FAKE  \n",
       "1  Google Pinterest Digg Linkedin Reddit Stumbleu...  FAKE  \n",
       "2  U.S. Secretary of State John F. Kerry said Mon...  REAL  \n",
       "3  — Kaydee King (@KaydeeKing) November 9, 2016 T...  FAKE  \n",
       "4  It's primary day in New York and front-runners...  REAL  "
      ]
     },
     "execution_count": 2,
     "metadata": {},
     "output_type": "execute_result"
    }
   ],
   "source": [
    "news_df=pd.read_csv('news.csv')\n",
    "news_df.info()\n",
    "news_df.head()"
   ]
  },
  {
   "cell_type": "code",
   "execution_count": 3,
   "metadata": {},
   "outputs": [],
   "source": [
    "news_df.drop(columns=['Unnamed: 0'], inplace=True)"
   ]
  },
  {
   "cell_type": "markdown",
   "metadata": {},
   "source": [
    "#### Data pre-processing\n",
    "\n",
    "In this section, the data are pre-processed and cleaned for analysis."
   ]
  },
  {
   "cell_type": "code",
   "execution_count": 4,
   "metadata": {},
   "outputs": [
    {
     "name": "stdout",
     "output_type": "stream",
     "text": [
      "The dataset does not have missing values.\n"
     ]
    }
   ],
   "source": [
    "# Check for missing values\n",
    "def check_for_missing(df):\n",
    "    \"\"\"\n",
    "    Checks if a dataframe has any missing values (NaN or null).\n",
    "    Also prints out some information about what columns contain the missing values.\n",
    "    \n",
    "    Args:\n",
    "        df (dataframe): The dataframe to examine for missing values.\n",
    "    \n",
    "    Returns:\n",
    "        A boolean representing whether (true) or not (false) the dataframe contains missing values.\n",
    "    \n",
    "    Raises:\n",
    "        None\n",
    "    \"\"\"\n",
    "    # This checks for any 'na' values in the dataset.\n",
    "    has_missing = df.isna().any().any()\n",
    "    if has_missing:\n",
    "        print(\"The dataset has missing values. The following columns contain missing values:\")\n",
    "        for column in list(df.columns[df.isnull().any()]):\n",
    "            num_missing = df[column].isna().sum().sum()\n",
    "            print(f\"\\t{column}: {num_missing} missing values\")\n",
    "    else:\n",
    "        print(\"The dataset does not have missing values.\")\n",
    "\n",
    "    return has_missing\n",
    "\n",
    "def replace_missing(df, new_value):\n",
    "    \"\"\"\n",
    "    Accepts:\n",
    "        new_value (scalar): An int, string, etc. to replace null values with.\n",
    "\n",
    "    Returns:\n",
    "        Copy of dataframe with null values replaced with new_value.\n",
    "\n",
    "    Raises:\n",
    "        None\n",
    "    \"\"\"\n",
    "    print(\"Performing data imputation.\")\n",
    "    df = df.fillna(new_value)\n",
    "    return df\n",
    "    \n",
    "if check_for_missing(news_df) == True:\n",
    "    news_df = replace_missing(news_df)"
   ]
  },
  {
   "cell_type": "code",
   "execution_count": 5,
   "metadata": {},
   "outputs": [],
   "source": [
    "#sentiment analysis\n",
    "\n",
    "analyser = SentimentIntensityAnalyzer()\n",
    "\n",
    "def sentiment_analyzer_scores(sentence):\n",
    "    score=analyser.polarity_scores(sentence)\n",
    "    #score format {'neg': 0.0, 'neu': 0.326, 'pos': 0.674, 'compound': 0.7351}\n",
    "    return(pd.Series(score)['compound'])\n"
   ]
  },
  {
   "cell_type": "code",
   "execution_count": 6,
   "metadata": {},
   "outputs": [],
   "source": [
    "news_df['title_sent']=news_df['title'].apply(lambda x: sentiment_analyzer_scores(x))\n",
    "news_df['text_sent']=news_df['text'].apply(lambda x: sentiment_analyzer_scores(x))"
   ]
  },
  {
   "cell_type": "code",
   "execution_count": 7,
   "metadata": {},
   "outputs": [],
   "source": [
    "news_df['prediction_label']=0"
   ]
  },
  {
   "cell_type": "code",
   "execution_count": 8,
   "metadata": {},
   "outputs": [],
   "source": [
    "news_df.loc[news_df['label']=='FAKE', 'prediction_label']=1"
   ]
  },
  {
   "cell_type": "code",
   "execution_count": 9,
   "metadata": {},
   "outputs": [],
   "source": [
    "news_df['title_orig']=news_df['title']\n",
    "news_df['text_orig']=news_df['text']"
   ]
  },
  {
   "cell_type": "code",
   "execution_count": 10,
   "metadata": {},
   "outputs": [],
   "source": [
    "txt_cols=['title', 'text']\n",
    "for t in txt_cols:\n",
    "    news_df[t]=news_df[t].apply(lambda x: x.lower())"
   ]
  },
  {
   "cell_type": "code",
   "execution_count": 11,
   "metadata": {},
   "outputs": [],
   "source": [
    "# tokenize words and remove punctuations \n",
    "\n",
    "for t in txt_cols:\n",
    "    news_df[t]=news_df[t].apply(lambda x: [word for word in word_tokenize(x) if word.isalpha()])"
   ]
  },
  {
   "cell_type": "code",
   "execution_count": 12,
   "metadata": {},
   "outputs": [],
   "source": [
    "# remove stopwords & lemmatization\n",
    "\n",
    "stopwords_list = list(set(stopwords.words('english')))\n",
    "lemmatizer = WordNetLemmatizer() "
   ]
  },
  {
   "cell_type": "code",
   "execution_count": 13,
   "metadata": {},
   "outputs": [],
   "source": [
    "for t in txt_cols:\n",
    "    \n",
    "    news_df[t]=news_df[t].apply(lambda x: [\n",
    "        lemmatizer.lemmatize(i) for i in x if i not in stopwords_list])"
   ]
  },
  {
   "cell_type": "code",
   "execution_count": 14,
   "metadata": {},
   "outputs": [],
   "source": [
    "# expand contractions, if any\n",
    "\n",
    "def expand_contractions(text):\n",
    "    for i in text:\n",
    "        if i in contractions_dict.keys():\n",
    "            i=re.sub(i, contractions_dict[i], i)\n",
    "    return text\n",
    "\n",
    "for t in txt_cols:\n",
    "    news_df[t]=news_df[t].apply(lambda x: expand_contractions(x))"
   ]
  },
  {
   "cell_type": "code",
   "execution_count": 15,
   "metadata": {},
   "outputs": [
    {
     "data": {
      "text/html": [
       "<div>\n",
       "<style scoped>\n",
       "    .dataframe tbody tr th:only-of-type {\n",
       "        vertical-align: middle;\n",
       "    }\n",
       "\n",
       "    .dataframe tbody tr th {\n",
       "        vertical-align: top;\n",
       "    }\n",
       "\n",
       "    .dataframe thead th {\n",
       "        text-align: right;\n",
       "    }\n",
       "</style>\n",
       "<table border=\"1\" class=\"dataframe\">\n",
       "  <thead>\n",
       "    <tr style=\"text-align: right;\">\n",
       "      <th></th>\n",
       "      <th>title</th>\n",
       "      <th>text</th>\n",
       "      <th>label</th>\n",
       "      <th>title_sent</th>\n",
       "      <th>text_sent</th>\n",
       "      <th>prediction_label</th>\n",
       "      <th>title_orig</th>\n",
       "      <th>text_orig</th>\n",
       "    </tr>\n",
       "  </thead>\n",
       "  <tbody>\n",
       "    <tr>\n",
       "      <th>0</th>\n",
       "      <td>[smell, hillary, fear]</td>\n",
       "      <td>[daniel, greenfield, shillman, journalism, fel...</td>\n",
       "      <td>FAKE</td>\n",
       "      <td>-0.4939</td>\n",
       "      <td>-0.9988</td>\n",
       "      <td>1</td>\n",
       "      <td>You Can Smell Hillary’s Fear</td>\n",
       "      <td>Daniel Greenfield, a Shillman Journalism Fello...</td>\n",
       "    </tr>\n",
       "    <tr>\n",
       "      <th>1</th>\n",
       "      <td>[watch, exact, moment, paul, ryan, committed, ...</td>\n",
       "      <td>[google, pinterest, digg, linkedin, reddit, st...</td>\n",
       "      <td>FAKE</td>\n",
       "      <td>-0.5267</td>\n",
       "      <td>0.7723</td>\n",
       "      <td>1</td>\n",
       "      <td>Watch The Exact Moment Paul Ryan Committed Pol...</td>\n",
       "      <td>Google Pinterest Digg Linkedin Reddit Stumbleu...</td>\n",
       "    </tr>\n",
       "    <tr>\n",
       "      <th>2</th>\n",
       "      <td>[kerry, go, paris, gesture, sympathy]</td>\n",
       "      <td>[secretary, state, john, kerry, said, monday, ...</td>\n",
       "      <td>REAL</td>\n",
       "      <td>0.3612</td>\n",
       "      <td>0.9595</td>\n",
       "      <td>0</td>\n",
       "      <td>Kerry to go to Paris in gesture of sympathy</td>\n",
       "      <td>U.S. Secretary of State John F. Kerry said Mon...</td>\n",
       "    </tr>\n",
       "    <tr>\n",
       "      <th>3</th>\n",
       "      <td>[bernie, supporter, twitter, erupt, anger, dnc...</td>\n",
       "      <td>[kaydee, king, kaydeeking, november, lesson, t...</td>\n",
       "      <td>FAKE</td>\n",
       "      <td>-0.3595</td>\n",
       "      <td>-0.4242</td>\n",
       "      <td>1</td>\n",
       "      <td>Bernie supporters on Twitter erupt in anger ag...</td>\n",
       "      <td>— Kaydee King (@KaydeeKing) November 9, 2016 T...</td>\n",
       "    </tr>\n",
       "    <tr>\n",
       "      <th>4</th>\n",
       "      <td>[battle, new, york, primary, matter]</td>\n",
       "      <td>[primary, day, new, york, hillary, clinton, do...</td>\n",
       "      <td>REAL</td>\n",
       "      <td>-0.3612</td>\n",
       "      <td>0.9826</td>\n",
       "      <td>0</td>\n",
       "      <td>The Battle of New York: Why This Primary Matters</td>\n",
       "      <td>It's primary day in New York and front-runners...</td>\n",
       "    </tr>\n",
       "  </tbody>\n",
       "</table>\n",
       "</div>"
      ],
      "text/plain": [
       "                                               title  \\\n",
       "0                             [smell, hillary, fear]   \n",
       "1  [watch, exact, moment, paul, ryan, committed, ...   \n",
       "2              [kerry, go, paris, gesture, sympathy]   \n",
       "3  [bernie, supporter, twitter, erupt, anger, dnc...   \n",
       "4               [battle, new, york, primary, matter]   \n",
       "\n",
       "                                                text label  title_sent  \\\n",
       "0  [daniel, greenfield, shillman, journalism, fel...  FAKE     -0.4939   \n",
       "1  [google, pinterest, digg, linkedin, reddit, st...  FAKE     -0.5267   \n",
       "2  [secretary, state, john, kerry, said, monday, ...  REAL      0.3612   \n",
       "3  [kaydee, king, kaydeeking, november, lesson, t...  FAKE     -0.3595   \n",
       "4  [primary, day, new, york, hillary, clinton, do...  REAL     -0.3612   \n",
       "\n",
       "   text_sent  prediction_label  \\\n",
       "0    -0.9988                 1   \n",
       "1     0.7723                 1   \n",
       "2     0.9595                 0   \n",
       "3    -0.4242                 1   \n",
       "4     0.9826                 0   \n",
       "\n",
       "                                          title_orig  \\\n",
       "0                       You Can Smell Hillary’s Fear   \n",
       "1  Watch The Exact Moment Paul Ryan Committed Pol...   \n",
       "2        Kerry to go to Paris in gesture of sympathy   \n",
       "3  Bernie supporters on Twitter erupt in anger ag...   \n",
       "4   The Battle of New York: Why This Primary Matters   \n",
       "\n",
       "                                           text_orig  \n",
       "0  Daniel Greenfield, a Shillman Journalism Fello...  \n",
       "1  Google Pinterest Digg Linkedin Reddit Stumbleu...  \n",
       "2  U.S. Secretary of State John F. Kerry said Mon...  \n",
       "3  — Kaydee King (@KaydeeKing) November 9, 2016 T...  \n",
       "4  It's primary day in New York and front-runners...  "
      ]
     },
     "execution_count": 15,
     "metadata": {},
     "output_type": "execute_result"
    }
   ],
   "source": [
    "news_df.head()"
   ]
  },
  {
   "cell_type": "markdown",
   "metadata": {},
   "source": [
    "Conduct TFIDF and Word-2-Vec processing"
   ]
  },
  {
   "cell_type": "code",
   "execution_count": 82,
   "metadata": {},
   "outputs": [],
   "source": [
    "# get pretiction labels \n",
    "categories=news_df['prediction_label']"
   ]
  },
  {
   "cell_type": "code",
   "execution_count": 83,
   "metadata": {},
   "outputs": [],
   "source": [
    "# use DataFrameMapper to add tfidf to dataframe with other features\n",
    "from sklearn.feature_extraction.text import TfidfVectorizer\n",
    "from sklearn_pandas import DataFrameMapper\n",
    "from sklearn.preprocessing import OneHotEncoder\n",
    "\n",
    "'''\n",
    "mapper=DataFrameMapper([\n",
    "    ('Headlines', TfidfVectorizer(tokenizer=lambda doc: doc, lowercase=False, ngram_range=(1,2), max_features=10000)),\n",
    "    ('Summary', TfidfVectorizer(tokenizer=lambda doc: doc, lowercase=False,ngram_range=(1,2), max_features=10000)),\n",
    "    ('headline_sent', None), \n",
    "    ('summary_sent', None),\n",
    "    (['type'], OneHotEncoder()),\n",
    "]) \n",
    "''' \n",
    "\n",
    "mapper=DataFrameMapper([\n",
    "    ('title_orig', TfidfVectorizer(tokenizer=lambda doc: doc, lowercase=False, ngram_range=(1,2), max_features=10000)),\n",
    "    ('text_orig', TfidfVectorizer(tokenizer=lambda doc: doc, lowercase=False,ngram_range=(1,2), max_features=10000)),\n",
    "    ('title_sent', None), \n",
    "    ('text_sent', None),\n",
    "]) \n",
    "\n",
    "\n",
    "tfidf_features=mapper.fit_transform(news_df)"
   ]
  },
  {
   "cell_type": "code",
   "execution_count": 84,
   "metadata": {},
   "outputs": [
    {
     "data": {
      "text/plain": [
       "array([[ 0.20597028,  0.        ,  0.        , ...,  0.        ,\n",
       "        -0.4939    , -0.9988    ],\n",
       "       [ 0.31944858,  0.        ,  0.        , ...,  0.        ,\n",
       "        -0.5267    ,  0.7723    ],\n",
       "       [ 0.31573094,  0.        ,  0.        , ...,  0.        ,\n",
       "         0.3612    ,  0.9595    ],\n",
       "       ...,\n",
       "       [ 0.29600604,  0.64033585,  0.        , ...,  0.        ,\n",
       "        -0.2263    , -0.9991    ],\n",
       "       [ 0.29472798,  0.        ,  0.        , ...,  0.        ,\n",
       "         0.8271    ,  0.9966    ],\n",
       "       [ 0.28451018,  0.        ,  0.        , ...,  0.        ,\n",
       "        -0.4404    ,  0.9774    ]])"
      ]
     },
     "execution_count": 84,
     "metadata": {},
     "output_type": "execute_result"
    }
   ],
   "source": [
    "tfidf_features"
   ]
  },
  {
   "cell_type": "code",
   "execution_count": 85,
   "metadata": {},
   "outputs": [
    {
     "name": "stdout",
     "output_type": "stream",
     "text": [
      "300\n"
     ]
    }
   ],
   "source": [
    "# we will also use w2v as an alternate vectorization method \n",
    "# Loading the pretrained word2vec model from Google (https://drive.google.com/file/d/0B7XkCwpI5KDYNlNUTTlSS21pQmM/edit).\n",
    "w2v_model = gensim.models.KeyedVectors.load_word2vec_format('GoogleNews-vectors-negative300.bin', binary=True)\n",
    "print(w2v_model.vector_size)"
   ]
  },
  {
   "cell_type": "code",
   "execution_count": 87,
   "metadata": {},
   "outputs": [],
   "source": [
    "# for Word2Vec model, combine title and text columns \n",
    "\n",
    "news_df['combined']=news_df['title']+news_df['text']"
   ]
  },
  {
   "cell_type": "code",
   "execution_count": 88,
   "metadata": {},
   "outputs": [
    {
     "data": {
      "text/html": [
       "<div>\n",
       "<style scoped>\n",
       "    .dataframe tbody tr th:only-of-type {\n",
       "        vertical-align: middle;\n",
       "    }\n",
       "\n",
       "    .dataframe tbody tr th {\n",
       "        vertical-align: top;\n",
       "    }\n",
       "\n",
       "    .dataframe thead th {\n",
       "        text-align: right;\n",
       "    }\n",
       "</style>\n",
       "<table border=\"1\" class=\"dataframe\">\n",
       "  <thead>\n",
       "    <tr style=\"text-align: right;\">\n",
       "      <th></th>\n",
       "      <th>title</th>\n",
       "      <th>text</th>\n",
       "      <th>label</th>\n",
       "      <th>title_sent</th>\n",
       "      <th>text_sent</th>\n",
       "      <th>prediction_label</th>\n",
       "      <th>title_orig</th>\n",
       "      <th>text_orig</th>\n",
       "      <th>combined</th>\n",
       "    </tr>\n",
       "  </thead>\n",
       "  <tbody>\n",
       "    <tr>\n",
       "      <th>0</th>\n",
       "      <td>[smell, hillary, fear]</td>\n",
       "      <td>[daniel, greenfield, shillman, journalism, fel...</td>\n",
       "      <td>FAKE</td>\n",
       "      <td>-0.4939</td>\n",
       "      <td>-0.9988</td>\n",
       "      <td>1</td>\n",
       "      <td>You Can Smell Hillary’s Fear</td>\n",
       "      <td>Daniel Greenfield, a Shillman Journalism Fello...</td>\n",
       "      <td>[smell, hillary, fear, daniel, greenfield, shi...</td>\n",
       "    </tr>\n",
       "    <tr>\n",
       "      <th>1</th>\n",
       "      <td>[watch, exact, moment, paul, ryan, committed, ...</td>\n",
       "      <td>[google, pinterest, digg, linkedin, reddit, st...</td>\n",
       "      <td>FAKE</td>\n",
       "      <td>-0.5267</td>\n",
       "      <td>0.7723</td>\n",
       "      <td>1</td>\n",
       "      <td>Watch The Exact Moment Paul Ryan Committed Pol...</td>\n",
       "      <td>Google Pinterest Digg Linkedin Reddit Stumbleu...</td>\n",
       "      <td>[watch, exact, moment, paul, ryan, committed, ...</td>\n",
       "    </tr>\n",
       "    <tr>\n",
       "      <th>2</th>\n",
       "      <td>[kerry, go, paris, gesture, sympathy]</td>\n",
       "      <td>[secretary, state, john, kerry, said, monday, ...</td>\n",
       "      <td>REAL</td>\n",
       "      <td>0.3612</td>\n",
       "      <td>0.9595</td>\n",
       "      <td>0</td>\n",
       "      <td>Kerry to go to Paris in gesture of sympathy</td>\n",
       "      <td>U.S. Secretary of State John F. Kerry said Mon...</td>\n",
       "      <td>[kerry, go, paris, gesture, sympathy, secretar...</td>\n",
       "    </tr>\n",
       "    <tr>\n",
       "      <th>3</th>\n",
       "      <td>[bernie, supporter, twitter, erupt, anger, dnc...</td>\n",
       "      <td>[kaydee, king, kaydeeking, november, lesson, t...</td>\n",
       "      <td>FAKE</td>\n",
       "      <td>-0.3595</td>\n",
       "      <td>-0.4242</td>\n",
       "      <td>1</td>\n",
       "      <td>Bernie supporters on Twitter erupt in anger ag...</td>\n",
       "      <td>— Kaydee King (@KaydeeKing) November 9, 2016 T...</td>\n",
       "      <td>[bernie, supporter, twitter, erupt, anger, dnc...</td>\n",
       "    </tr>\n",
       "    <tr>\n",
       "      <th>4</th>\n",
       "      <td>[battle, new, york, primary, matter]</td>\n",
       "      <td>[primary, day, new, york, hillary, clinton, do...</td>\n",
       "      <td>REAL</td>\n",
       "      <td>-0.3612</td>\n",
       "      <td>0.9826</td>\n",
       "      <td>0</td>\n",
       "      <td>The Battle of New York: Why This Primary Matters</td>\n",
       "      <td>It's primary day in New York and front-runners...</td>\n",
       "      <td>[battle, new, york, primary, matter, primary, ...</td>\n",
       "    </tr>\n",
       "  </tbody>\n",
       "</table>\n",
       "</div>"
      ],
      "text/plain": [
       "                                               title  \\\n",
       "0                             [smell, hillary, fear]   \n",
       "1  [watch, exact, moment, paul, ryan, committed, ...   \n",
       "2              [kerry, go, paris, gesture, sympathy]   \n",
       "3  [bernie, supporter, twitter, erupt, anger, dnc...   \n",
       "4               [battle, new, york, primary, matter]   \n",
       "\n",
       "                                                text label  title_sent  \\\n",
       "0  [daniel, greenfield, shillman, journalism, fel...  FAKE     -0.4939   \n",
       "1  [google, pinterest, digg, linkedin, reddit, st...  FAKE     -0.5267   \n",
       "2  [secretary, state, john, kerry, said, monday, ...  REAL      0.3612   \n",
       "3  [kaydee, king, kaydeeking, november, lesson, t...  FAKE     -0.3595   \n",
       "4  [primary, day, new, york, hillary, clinton, do...  REAL     -0.3612   \n",
       "\n",
       "   text_sent  prediction_label  \\\n",
       "0    -0.9988                 1   \n",
       "1     0.7723                 1   \n",
       "2     0.9595                 0   \n",
       "3    -0.4242                 1   \n",
       "4     0.9826                 0   \n",
       "\n",
       "                                          title_orig  \\\n",
       "0                       You Can Smell Hillary’s Fear   \n",
       "1  Watch The Exact Moment Paul Ryan Committed Pol...   \n",
       "2        Kerry to go to Paris in gesture of sympathy   \n",
       "3  Bernie supporters on Twitter erupt in anger ag...   \n",
       "4   The Battle of New York: Why This Primary Matters   \n",
       "\n",
       "                                           text_orig  \\\n",
       "0  Daniel Greenfield, a Shillman Journalism Fello...   \n",
       "1  Google Pinterest Digg Linkedin Reddit Stumbleu...   \n",
       "2  U.S. Secretary of State John F. Kerry said Mon...   \n",
       "3  — Kaydee King (@KaydeeKing) November 9, 2016 T...   \n",
       "4  It's primary day in New York and front-runners...   \n",
       "\n",
       "                                            combined  \n",
       "0  [smell, hillary, fear, daniel, greenfield, shi...  \n",
       "1  [watch, exact, moment, paul, ryan, committed, ...  \n",
       "2  [kerry, go, paris, gesture, sympathy, secretar...  \n",
       "3  [bernie, supporter, twitter, erupt, anger, dnc...  \n",
       "4  [battle, new, york, primary, matter, primary, ...  "
      ]
     },
     "execution_count": 88,
     "metadata": {},
     "output_type": "execute_result"
    }
   ],
   "source": [
    "# check that this worked\n",
    "news_df.head()"
   ]
  },
  {
   "cell_type": "code",
   "execution_count": 89,
   "metadata": {},
   "outputs": [
    {
     "name": "stdout",
     "output_type": "stream",
     "text": [
      "(6335,)\n"
     ]
    }
   ],
   "source": [
    "# Word2Vec feature engineering\n",
    "def word2vectorizer(row):\n",
    "    vectors = np.array([w2v_model[token] for token in row if token in w2v_model.vocab])\n",
    "    # If no words in a row are in the model's vocab, just return vector of zeros.\n",
    "    # Otherwise get the average of each vector.\n",
    "    if vectors.size == 0:\n",
    "        vectors = np.zeros(w2v_model.vector_size)\n",
    "    else:\n",
    "        vectors = np.mean(vectors, axis=0)\n",
    "    return vectors\n",
    "\n",
    "\n",
    "w2v_vectors=news_df['combined'].apply(lambda x: word2vectorizer(x))\n",
    "#text_vectors=news_df['text'].apply(lambda x: word2vectorizer(x))\n",
    "\n",
    "print(w2v_vectors.shape)"
   ]
  },
  {
   "cell_type": "markdown",
   "metadata": {},
   "source": [
    "Final datasets for modelling are:\n",
    "\n",
    "tfidf_features: array of features including tfidf transformations for headline and summary text, headline and summary sentiments, and one-hot encoded features for news source type.\n",
    "\n",
    "w2v_vectors: pandas Series of vectors, using w2v for title + body text combined.\n",
    "\n",
    "categories: outcome labels for classification"
   ]
  },
  {
   "cell_type": "markdown",
   "metadata": {},
   "source": [
    "### Topic modeling using LDA ( Latent Dirichlet Allocation)"
   ]
  },
  {
   "cell_type": "code",
   "execution_count": 23,
   "metadata": {},
   "outputs": [],
   "source": [
    "from sklearn.feature_extraction.text import CountVectorizer\n",
    "#\n",
    "count_vectorizer = CountVectorizer(tokenizer=lambda doc: doc, lowercase=False)\n",
    "# Fit and transform the processed titles\n",
    "count_data = count_vectorizer.fit_transform(news_df['title'])\n",
    "# Tweak the two parameters below \n",
    "number_topics = 10"
   ]
  },
  {
   "cell_type": "code",
   "execution_count": 24,
   "metadata": {},
   "outputs": [
    {
     "data": {
      "text/plain": [
       "LatentDirichletAllocation()"
      ]
     },
     "execution_count": 24,
     "metadata": {},
     "output_type": "execute_result"
    }
   ],
   "source": [
    "from sklearn.decomposition import LatentDirichletAllocation as LDA\n",
    "# Create and fit the LDA model\n",
    "lda = LDA(n_components=number_topics)\n",
    "lda.fit(count_data)"
   ]
  },
  {
   "cell_type": "code",
   "execution_count": 25,
   "metadata": {},
   "outputs": [
    {
     "name": "stdout",
     "output_type": "stream",
     "text": [
      "Topics found via LDA:\n",
      "\n",
      "Topic #0:\n",
      "clinton trump sander hillary\n",
      "\n",
      "Topic #1:\n",
      "obama trump vote source\n",
      "\n",
      "Topic #2:\n",
      "new clinton trump house\n",
      "\n",
      "Topic #3:\n",
      "trump gop cruz debate\n",
      "\n",
      "Topic #4:\n",
      "trump u putin election\n",
      "\n",
      "Topic #5:\n",
      "new dead trump death\n",
      "\n",
      "Topic #6:\n",
      "hillary clinton trump email\n",
      "\n",
      "Topic #7:\n",
      "war police election black\n",
      "\n",
      "Topic #8:\n",
      "trump like obama russia\n",
      "\n",
      "Topic #9:\n",
      "trump republican donald court\n"
     ]
    }
   ],
   "source": [
    "number_words = 4\n",
    "\n",
    "def print_topics(model, count_vectorizer, n_top_words):\n",
    "    words = count_vectorizer.get_feature_names()\n",
    "    for topic_idx, topic in enumerate(model.components_):\n",
    "        print(\"\\nTopic #%d:\" % topic_idx)\n",
    "        print(\" \".join([words[i]\n",
    "                        for i in topic.argsort()[:-n_top_words - 1:-1]]))\n",
    "        \n",
    "        \n",
    "print(\"Topics found via LDA:\")\n",
    "print_topics(lda, count_vectorizer, number_words)"
   ]
  },
  {
   "cell_type": "markdown",
   "metadata": {},
   "source": [
    "### **PART2 : DATA VISUALIZATION**"
   ]
  },
  {
   "cell_type": "code",
   "execution_count": 26,
   "metadata": {},
   "outputs": [
    {
     "data": {
      "image/png": "[encoded data removed]",
      "text/plain": [
       "<Figure size 576x576 with 1 Axes>"
      ]
     },
     "metadata": {
      "needs_background": "light"
     },
     "output_type": "display_data"
    }
   ],
   "source": [
    "#word cloud representing the most frequently used words\n",
    "wordcloud = WordCloud(\n",
    "    width = 2000,\n",
    "    height = 2000,\n",
    "    background_color = 'white',\n",
    "    stopwords = STOPWORDS).generate(str(news_df['combined']))\n",
    "fig = plt.figure(\n",
    "    figsize = (8, 8),\n",
    "    facecolor = None,\n",
    "    edgecolor = 'k')\n",
    "plt.imshow(wordcloud, interpolation = 'bilinear')\n",
    "plt.axis('off')\n",
    "plt.tight_layout(pad=0)\n",
    "plt.show()"
   ]
  },
  {
   "cell_type": "code",
   "execution_count": 27,
   "metadata": {},
   "outputs": [],
   "source": [
    "def plot_10_most_common_words(count_data, count_vectorizer):\n",
    "    words = count_vectorizer.get_feature_names()\n",
    "    total_counts = np.zeros(len(words))\n",
    "    for t in count_data:\n",
    "        total_counts+=t.toarray()[0]\n",
    "    count_dict = (zip(words, total_counts))\n",
    "    count_dict = sorted(count_dict, key=lambda x:x[1], reverse=True)[0:10]\n",
    "    words = [w[0] for w in count_dict]\n",
    "    counts = [w[1] for w in count_dict]\n",
    "    x_pos = np.arange(len(words)) \n",
    "\n",
    "    plt.bar(x_pos, counts,align='center')\n",
    "    plt.xticks(x_pos, words, rotation=90) \n",
    "    plt.xlabel('words')\n",
    "    plt.ylabel('counts')\n",
    "    plt.title('10 most common words')\n",
    "    plt.show()"
   ]
  },
  {
   "cell_type": "code",
   "execution_count": 28,
   "metadata": {},
   "outputs": [
    {
     "data": {
      "image/png": "[encoded data removed]",
      "text/plain": [
       "<Figure size 432x288 with 1 Axes>"
      ]
     },
     "metadata": {
      "needs_background": "light"
     },
     "output_type": "display_data"
    }
   ],
   "source": [
    "# Visualise the 10 most common words\n",
    "plot_10_most_common_words(count_data, count_vectorizer)"
   ]
  },
  {
   "cell_type": "code",
   "execution_count": 18,
   "metadata": {},
   "outputs": [
    {
     "data": {
      "text/html": [
       "<div>\n",
       "<style scoped>\n",
       "    .dataframe tbody tr th:only-of-type {\n",
       "        vertical-align: middle;\n",
       "    }\n",
       "\n",
       "    .dataframe tbody tr th {\n",
       "        vertical-align: top;\n",
       "    }\n",
       "\n",
       "    .dataframe thead th {\n",
       "        text-align: right;\n",
       "    }\n",
       "</style>\n",
       "<table border=\"1\" class=\"dataframe\">\n",
       "  <thead>\n",
       "    <tr style=\"text-align: right;\">\n",
       "      <th></th>\n",
       "      <th>title</th>\n",
       "      <th>text</th>\n",
       "      <th>label</th>\n",
       "      <th>title_sent</th>\n",
       "      <th>text_sent</th>\n",
       "      <th>prediction_label</th>\n",
       "      <th>title_orig</th>\n",
       "      <th>text_orig</th>\n",
       "    </tr>\n",
       "  </thead>\n",
       "  <tbody>\n",
       "    <tr>\n",
       "      <th>0</th>\n",
       "      <td>[smell, hillary, fear]</td>\n",
       "      <td>[daniel, greenfield, shillman, journalism, fel...</td>\n",
       "      <td>FAKE</td>\n",
       "      <td>-0.4939</td>\n",
       "      <td>-0.9988</td>\n",
       "      <td>1</td>\n",
       "      <td>You Can Smell Hillary’s Fear</td>\n",
       "      <td>Daniel Greenfield, a Shillman Journalism Fello...</td>\n",
       "    </tr>\n",
       "    <tr>\n",
       "      <th>1</th>\n",
       "      <td>[watch, exact, moment, paul, ryan, committed, ...</td>\n",
       "      <td>[google, pinterest, digg, linkedin, reddit, st...</td>\n",
       "      <td>FAKE</td>\n",
       "      <td>-0.5267</td>\n",
       "      <td>0.7723</td>\n",
       "      <td>1</td>\n",
       "      <td>Watch The Exact Moment Paul Ryan Committed Pol...</td>\n",
       "      <td>Google Pinterest Digg Linkedin Reddit Stumbleu...</td>\n",
       "    </tr>\n",
       "    <tr>\n",
       "      <th>2</th>\n",
       "      <td>[kerry, go, paris, gesture, sympathy]</td>\n",
       "      <td>[secretary, state, john, kerry, said, monday, ...</td>\n",
       "      <td>REAL</td>\n",
       "      <td>0.3612</td>\n",
       "      <td>0.9595</td>\n",
       "      <td>0</td>\n",
       "      <td>Kerry to go to Paris in gesture of sympathy</td>\n",
       "      <td>U.S. Secretary of State John F. Kerry said Mon...</td>\n",
       "    </tr>\n",
       "    <tr>\n",
       "      <th>3</th>\n",
       "      <td>[bernie, supporter, twitter, erupt, anger, dnc...</td>\n",
       "      <td>[kaydee, king, kaydeeking, november, lesson, t...</td>\n",
       "      <td>FAKE</td>\n",
       "      <td>-0.3595</td>\n",
       "      <td>-0.4242</td>\n",
       "      <td>1</td>\n",
       "      <td>Bernie supporters on Twitter erupt in anger ag...</td>\n",
       "      <td>— Kaydee King (@KaydeeKing) November 9, 2016 T...</td>\n",
       "    </tr>\n",
       "    <tr>\n",
       "      <th>4</th>\n",
       "      <td>[battle, new, york, primary, matter]</td>\n",
       "      <td>[primary, day, new, york, hillary, clinton, do...</td>\n",
       "      <td>REAL</td>\n",
       "      <td>-0.3612</td>\n",
       "      <td>0.9826</td>\n",
       "      <td>0</td>\n",
       "      <td>The Battle of New York: Why This Primary Matters</td>\n",
       "      <td>It's primary day in New York and front-runners...</td>\n",
       "    </tr>\n",
       "  </tbody>\n",
       "</table>\n",
       "</div>"
      ],
      "text/plain": [
       "                                               title  \\\n",
       "0                             [smell, hillary, fear]   \n",
       "1  [watch, exact, moment, paul, ryan, committed, ...   \n",
       "2              [kerry, go, paris, gesture, sympathy]   \n",
       "3  [bernie, supporter, twitter, erupt, anger, dnc...   \n",
       "4               [battle, new, york, primary, matter]   \n",
       "\n",
       "                                                text label  title_sent  \\\n",
       "0  [daniel, greenfield, shillman, journalism, fel...  FAKE     -0.4939   \n",
       "1  [google, pinterest, digg, linkedin, reddit, st...  FAKE     -0.5267   \n",
       "2  [secretary, state, john, kerry, said, monday, ...  REAL      0.3612   \n",
       "3  [kaydee, king, kaydeeking, november, lesson, t...  FAKE     -0.3595   \n",
       "4  [primary, day, new, york, hillary, clinton, do...  REAL     -0.3612   \n",
       "\n",
       "   text_sent  prediction_label  \\\n",
       "0    -0.9988                 1   \n",
       "1     0.7723                 1   \n",
       "2     0.9595                 0   \n",
       "3    -0.4242                 1   \n",
       "4     0.9826                 0   \n",
       "\n",
       "                                          title_orig  \\\n",
       "0                       You Can Smell Hillary’s Fear   \n",
       "1  Watch The Exact Moment Paul Ryan Committed Pol...   \n",
       "2        Kerry to go to Paris in gesture of sympathy   \n",
       "3  Bernie supporters on Twitter erupt in anger ag...   \n",
       "4   The Battle of New York: Why This Primary Matters   \n",
       "\n",
       "                                           text_orig  \n",
       "0  Daniel Greenfield, a Shillman Journalism Fello...  \n",
       "1  Google Pinterest Digg Linkedin Reddit Stumbleu...  \n",
       "2  U.S. Secretary of State John F. Kerry said Mon...  \n",
       "3  — Kaydee King (@KaydeeKing) November 9, 2016 T...  \n",
       "4  It's primary day in New York and front-runners...  "
      ]
     },
     "execution_count": 18,
     "metadata": {},
     "output_type": "execute_result"
    }
   ],
   "source": [
    "news_df.head()"
   ]
  },
  {
   "cell_type": "code",
   "execution_count": 24,
   "metadata": {},
   "outputs": [
    {
     "data": {
      "text/plain": [
       "<seaborn.axisgrid.FacetGrid at 0x1ed3e07a988>"
      ]
     },
     "execution_count": 24,
     "metadata": {},
     "output_type": "execute_result"
    },
    {
     "data": {
      "image/png": "[encoded data removed]",
      "text/plain": [
       "<Figure size 360x360 with 1 Axes>"
      ]
     },
     "metadata": {
      "needs_background": "light"
     },
     "output_type": "display_data"
    }
   ],
   "source": [
    "#bar chart representing the fake/ Real news in this dataset\n",
    "sns.catplot(x='label', kind='count', data=news_df)"
   ]
  },
  {
   "cell_type": "code",
   "execution_count": 79,
   "metadata": {},
   "outputs": [
    {
     "data": {
      "text/plain": [
       "[Text(0.5, 0, ''), Text(0.5, 1.0, 'REAL')]"
      ]
     },
     "execution_count": 79,
     "metadata": {},
     "output_type": "execute_result"
    },
    {
     "data": {
      "image/png": "[encoded data removed]",
      "text/plain": [
       "<Figure size 1080x360 with 2 Axes>"
      ]
     },
     "metadata": {
      "needs_background": "light"
     },
     "output_type": "display_data"
    }
   ],
   "source": [
    "f, axes=plt.subplots(1, 2, figsize=(15, 5) )\n",
    "f.suptitle(\"Text Sentiment Distribution\")\n",
    "\n",
    "sns.distplot(news_df[news_df.label=='FAKE']['text_sent'], ax=axes[0], kde=False, color='blue')\n",
    "axes[0].set(xlabel=None, title='FAKE')\n",
    "sns.distplot(news_df[news_df.label=='FAKE']['text_sent'], ax=axes[1], kde=False, color='orange')\n",
    "axes[1].set(xlabel=None, title='REAL')\n"
   ]
  },
  {
   "cell_type": "markdown",
   "metadata": {},
   "source": [
    "## Part 3: Modelling"
   ]
  },
  {
   "cell_type": "code",
   "execution_count": 93,
   "metadata": {},
   "outputs": [
    {
     "data": {
      "text/plain": [
       "0    3171\n",
       "1    3164\n",
       "Name: prediction_label, dtype: int64"
      ]
     },
     "execution_count": 93,
     "metadata": {},
     "output_type": "execute_result"
    }
   ],
   "source": [
    "# check for class imbalance \n",
    "categories.value_counts() \n",
    "\n",
    "# dataset is fairly balanced in the two classes"
   ]
  },
  {
   "cell_type": "code",
   "execution_count": 94,
   "metadata": {},
   "outputs": [],
   "source": [
    "#tfidf training and test datasets: \n",
    "\n",
    "X_train_tf, X_test_tf, y_train_tf, y_test_tf = train_test_split(tfidf_features, categories, test_size=0.3, random_state=42)"
   ]
  },
  {
   "cell_type": "code",
   "execution_count": 95,
   "metadata": {},
   "outputs": [],
   "source": [
    "#w2v embedding training and test datasets:\n",
    "\n",
    "X_train_em, X_test_em, y_train_em, y_test_em = train_test_split(w2v_vectors, categories, test_size=0.3, random_state=42)"
   ]
  },
  {
   "cell_type": "code",
   "execution_count": 117,
   "metadata": {},
   "outputs": [],
   "source": [
    "k_fold=5"
   ]
  },
  {
   "cell_type": "code",
   "execution_count": 97,
   "metadata": {},
   "outputs": [],
   "source": [
    "# flatten out vector array into pandas columns for input into NB classifier\n",
    "data=[]\n",
    "for i in w2v_vectors:\n",
    "    i.reshape(1, 300)\n",
    "    data.append(i.tolist())"
   ]
  },
  {
   "cell_type": "code",
   "execution_count": 98,
   "metadata": {},
   "outputs": [
    {
     "data": {
      "text/html": [
       "<div>\n",
       "<style scoped>\n",
       "    .dataframe tbody tr th:only-of-type {\n",
       "        vertical-align: middle;\n",
       "    }\n",
       "\n",
       "    .dataframe tbody tr th {\n",
       "        vertical-align: top;\n",
       "    }\n",
       "\n",
       "    .dataframe thead th {\n",
       "        text-align: right;\n",
       "    }\n",
       "</style>\n",
       "<table border=\"1\" class=\"dataframe\">\n",
       "  <thead>\n",
       "    <tr style=\"text-align: right;\">\n",
       "      <th></th>\n",
       "      <th>0</th>\n",
       "      <th>1</th>\n",
       "      <th>2</th>\n",
       "      <th>3</th>\n",
       "      <th>4</th>\n",
       "      <th>5</th>\n",
       "      <th>6</th>\n",
       "      <th>7</th>\n",
       "      <th>8</th>\n",
       "      <th>9</th>\n",
       "      <th>...</th>\n",
       "      <th>292</th>\n",
       "      <th>293</th>\n",
       "      <th>294</th>\n",
       "      <th>295</th>\n",
       "      <th>296</th>\n",
       "      <th>297</th>\n",
       "      <th>298</th>\n",
       "      <th>299</th>\n",
       "      <th>title_sent</th>\n",
       "      <th>text_sent</th>\n",
       "    </tr>\n",
       "  </thead>\n",
       "  <tbody>\n",
       "    <tr>\n",
       "      <th>0</th>\n",
       "      <td>0.057327</td>\n",
       "      <td>0.045599</td>\n",
       "      <td>0.025604</td>\n",
       "      <td>0.061268</td>\n",
       "      <td>-0.085276</td>\n",
       "      <td>-0.022541</td>\n",
       "      <td>0.028998</td>\n",
       "      <td>-0.053078</td>\n",
       "      <td>0.084359</td>\n",
       "      <td>0.054557</td>\n",
       "      <td>...</td>\n",
       "      <td>-0.060427</td>\n",
       "      <td>0.021519</td>\n",
       "      <td>-0.062594</td>\n",
       "      <td>-0.063116</td>\n",
       "      <td>0.005847</td>\n",
       "      <td>-0.079187</td>\n",
       "      <td>-0.018615</td>\n",
       "      <td>0.036467</td>\n",
       "      <td>-0.4939</td>\n",
       "      <td>-0.9988</td>\n",
       "    </tr>\n",
       "    <tr>\n",
       "      <th>1</th>\n",
       "      <td>0.027843</td>\n",
       "      <td>0.047463</td>\n",
       "      <td>0.021543</td>\n",
       "      <td>0.101250</td>\n",
       "      <td>-0.062751</td>\n",
       "      <td>-0.044283</td>\n",
       "      <td>0.032048</td>\n",
       "      <td>-0.076805</td>\n",
       "      <td>0.123853</td>\n",
       "      <td>0.060120</td>\n",
       "      <td>...</td>\n",
       "      <td>-0.082698</td>\n",
       "      <td>0.019953</td>\n",
       "      <td>-0.069039</td>\n",
       "      <td>-0.096247</td>\n",
       "      <td>0.011889</td>\n",
       "      <td>-0.069994</td>\n",
       "      <td>-0.018462</td>\n",
       "      <td>0.034930</td>\n",
       "      <td>-0.5267</td>\n",
       "      <td>0.7723</td>\n",
       "    </tr>\n",
       "    <tr>\n",
       "      <th>2</th>\n",
       "      <td>-0.028074</td>\n",
       "      <td>0.039853</td>\n",
       "      <td>0.050990</td>\n",
       "      <td>0.078486</td>\n",
       "      <td>-0.046615</td>\n",
       "      <td>-0.045704</td>\n",
       "      <td>0.018534</td>\n",
       "      <td>-0.139602</td>\n",
       "      <td>0.076804</td>\n",
       "      <td>0.036503</td>\n",
       "      <td>...</td>\n",
       "      <td>-0.050653</td>\n",
       "      <td>0.012012</td>\n",
       "      <td>-0.037772</td>\n",
       "      <td>-0.029351</td>\n",
       "      <td>-0.036106</td>\n",
       "      <td>-0.065438</td>\n",
       "      <td>0.027356</td>\n",
       "      <td>0.004403</td>\n",
       "      <td>0.3612</td>\n",
       "      <td>0.9595</td>\n",
       "    </tr>\n",
       "    <tr>\n",
       "      <th>3</th>\n",
       "      <td>0.039635</td>\n",
       "      <td>0.014241</td>\n",
       "      <td>0.014139</td>\n",
       "      <td>0.092180</td>\n",
       "      <td>-0.081838</td>\n",
       "      <td>-0.027465</td>\n",
       "      <td>0.013423</td>\n",
       "      <td>-0.056641</td>\n",
       "      <td>0.101483</td>\n",
       "      <td>0.031725</td>\n",
       "      <td>...</td>\n",
       "      <td>-0.052874</td>\n",
       "      <td>-0.051375</td>\n",
       "      <td>-0.033873</td>\n",
       "      <td>-0.095825</td>\n",
       "      <td>-0.011113</td>\n",
       "      <td>-0.070474</td>\n",
       "      <td>-0.030532</td>\n",
       "      <td>0.053498</td>\n",
       "      <td>-0.3595</td>\n",
       "      <td>-0.4242</td>\n",
       "    </tr>\n",
       "    <tr>\n",
       "      <th>4</th>\n",
       "      <td>0.024257</td>\n",
       "      <td>0.053159</td>\n",
       "      <td>0.018278</td>\n",
       "      <td>0.002307</td>\n",
       "      <td>-0.026176</td>\n",
       "      <td>-0.065155</td>\n",
       "      <td>-0.037584</td>\n",
       "      <td>-0.076285</td>\n",
       "      <td>0.050568</td>\n",
       "      <td>0.087655</td>\n",
       "      <td>...</td>\n",
       "      <td>-0.060593</td>\n",
       "      <td>-0.049937</td>\n",
       "      <td>-0.019989</td>\n",
       "      <td>-0.063685</td>\n",
       "      <td>-0.009511</td>\n",
       "      <td>-0.047892</td>\n",
       "      <td>-0.019586</td>\n",
       "      <td>-0.001257</td>\n",
       "      <td>-0.3612</td>\n",
       "      <td>0.9826</td>\n",
       "    </tr>\n",
       "  </tbody>\n",
       "</table>\n",
       "<p>5 rows × 302 columns</p>\n",
       "</div>"
      ],
      "text/plain": [
       "          0         1         2         3         4         5         6  \\\n",
       "0  0.057327  0.045599  0.025604  0.061268 -0.085276 -0.022541  0.028998   \n",
       "1  0.027843  0.047463  0.021543  0.101250 -0.062751 -0.044283  0.032048   \n",
       "2 -0.028074  0.039853  0.050990  0.078486 -0.046615 -0.045704  0.018534   \n",
       "3  0.039635  0.014241  0.014139  0.092180 -0.081838 -0.027465  0.013423   \n",
       "4  0.024257  0.053159  0.018278  0.002307 -0.026176 -0.065155 -0.037584   \n",
       "\n",
       "          7         8         9  ...       292       293       294       295  \\\n",
       "0 -0.053078  0.084359  0.054557  ... -0.060427  0.021519 -0.062594 -0.063116   \n",
       "1 -0.076805  0.123853  0.060120  ... -0.082698  0.019953 -0.069039 -0.096247   \n",
       "2 -0.139602  0.076804  0.036503  ... -0.050653  0.012012 -0.037772 -0.029351   \n",
       "3 -0.056641  0.101483  0.031725  ... -0.052874 -0.051375 -0.033873 -0.095825   \n",
       "4 -0.076285  0.050568  0.087655  ... -0.060593 -0.049937 -0.019989 -0.063685   \n",
       "\n",
       "        296       297       298       299  title_sent  text_sent  \n",
       "0  0.005847 -0.079187 -0.018615  0.036467     -0.4939    -0.9988  \n",
       "1  0.011889 -0.069994 -0.018462  0.034930     -0.5267     0.7723  \n",
       "2 -0.036106 -0.065438  0.027356  0.004403      0.3612     0.9595  \n",
       "3 -0.011113 -0.070474 -0.030532  0.053498     -0.3595    -0.4242  \n",
       "4 -0.009511 -0.047892 -0.019586 -0.001257     -0.3612     0.9826  \n",
       "\n",
       "[5 rows x 302 columns]"
      ]
     },
     "execution_count": 98,
     "metadata": {},
     "output_type": "execute_result"
    }
   ],
   "source": [
    "flattened_em=pd.DataFrame(data)\n",
    "flattened_em[\"title_sent\"] = news_df['title_sent']\n",
    "flattened_em[\"text_sent\"] = news_df['text_sent']\n",
    "flattened_em.head()"
   ]
  },
  {
   "cell_type": "code",
   "execution_count": 99,
   "metadata": {},
   "outputs": [],
   "source": [
    "# use indices of X_train_em to subset to train/test datasets for the flattened dataset in order to fit a NB model\n",
    "X_train_em_flat=flattened_em.iloc[X_train_em.index, :]\n",
    "X_test_em_flat=flattened_em.iloc[X_test_em.index, :]"
   ]
  },
  {
   "cell_type": "code",
   "execution_count": 100,
   "metadata": {},
   "outputs": [
    {
     "data": {
      "text/plain": [
       "True"
      ]
     },
     "execution_count": 100,
     "metadata": {},
     "output_type": "execute_result"
    }
   ],
   "source": [
    "# check that the subsetting worked correctly\n",
    "(X_train_em_flat.index==y_train_em.index).all()"
   ]
  },
  {
   "cell_type": "code",
   "execution_count": 101,
   "metadata": {},
   "outputs": [
    {
     "data": {
      "text/plain": [
       "True"
      ]
     },
     "execution_count": 101,
     "metadata": {},
     "output_type": "execute_result"
    }
   ],
   "source": [
    "(X_test_em_flat.index==y_test_em.index).all()"
   ]
  },
  {
   "cell_type": "markdown",
   "metadata": {},
   "source": [
    "#### Naive Bayes"
   ]
  },
  {
   "cell_type": "markdown",
   "metadata": {},
   "source": [
    "#### TFIDF"
   ]
  },
  {
   "cell_type": "code",
   "execution_count": 90,
   "metadata": {},
   "outputs": [],
   "source": [
    "from sklearn.model_selection import cross_val_score\n",
    "from sklearn.naive_bayes import GaussianNB"
   ]
  },
  {
   "cell_type": "code",
   "execution_count": 91,
   "metadata": {},
   "outputs": [],
   "source": [
    "from sklearn.metrics import roc_curve, auc\n",
    "from sklearn.metrics import roc_auc_score\n",
    "from sklearn.metrics import plot_roc_curve\n",
    "from matplotlib import pyplot\n",
    "from sklearn.metrics import classification_report\n",
    "from sklearn.metrics import plot_confusion_matrix"
   ]
  },
  {
   "cell_type": "code",
   "execution_count": 96,
   "metadata": {},
   "outputs": [],
   "source": [
    "#Training\n",
    "\n",
    "NB = GaussianNB() \n",
    "NB.fit(X_train_tf, y_train_tf)\n",
    "y_pred = NB.predict(X_test_tf)"
   ]
  },
  {
   "cell_type": "code",
   "execution_count": 35,
   "metadata": {},
   "outputs": [
    {
     "name": "stdout",
     "output_type": "stream",
     "text": [
      "5-fold cross validation score of Logistic Regression:\n",
      " [0.82863585 0.82412627 0.83652762 0.81285231 0.83521445]\n",
      "mean cross validation score:\n",
      "0.8275\n"
     ]
    }
   ],
   "source": [
    "cv_scores=cross_val_score(NB, X_train_tf, y_train_tf, cv=k_fold, n_jobs=1)\n",
    "print('5-fold cross validation score of Logistic Regression:\\n', cv_scores)\n",
    "print('mean cross validation score:\\n{:.4f}'.format(np.array(cv_scores).mean()))"
   ]
  },
  {
   "cell_type": "code",
   "execution_count": 36,
   "metadata": {},
   "outputs": [
    {
     "name": "stdout",
     "output_type": "stream",
     "text": [
      "confusion matrix:\n",
      "[[831 102]\n",
      " [236 732]]\n",
      "test accuracy score:\n",
      " 0.8221988427143608\n"
     ]
    }
   ],
   "source": [
    "#Testing\n",
    "conf_matrix = confusion_matrix(y_test_tf, y_pred)\n",
    "print('confusion matrix:')\n",
    "print(conf_matrix)\n",
    "print('test accuracy score:\\n', accuracy_score(y_test_tf, y_pred))"
   ]
  },
  {
   "cell_type": "code",
   "execution_count": 37,
   "metadata": {},
   "outputs": [
    {
     "data": {
      "text/plain": [
       "<sklearn.metrics._plot.confusion_matrix.ConfusionMatrixDisplay at 0x7fdb3e614320>"
      ]
     },
     "execution_count": 37,
     "metadata": {},
     "output_type": "execute_result"
    },
    {
     "data": {
      "image/png": "[encoded data removed]",
      "text/plain": [
       "<Figure size 432x288 with 2 Axes>"
      ]
     },
     "metadata": {
      "needs_background": "light"
     },
     "output_type": "display_data"
    }
   ],
   "source": [
    "plot_confusion_matrix(NB, X_test_tf, y_test_tf, labels=[0, 1], display_labels=['Real', 'Fake'])"
   ]
  },
  {
   "cell_type": "markdown",
   "metadata": {},
   "source": [
    "##### W2V"
   ]
  },
  {
   "cell_type": "code",
   "execution_count": 102,
   "metadata": {},
   "outputs": [],
   "source": [
    "NB_em = GaussianNB() \n",
    "NB_em.fit(X_train_em_flat, y_train_em)\n",
    "y_pred_NB_em = NB_em.predict(X_test_em_flat)"
   ]
  },
  {
   "cell_type": "code",
   "execution_count": 43,
   "metadata": {},
   "outputs": [
    {
     "name": "stdout",
     "output_type": "stream",
     "text": [
      "5-fold cross validation score of Naive Bayes Classifier:\n",
      " [0.63585118 0.66290868 0.70687711 0.68883878 0.66139955]\n",
      "mean cross validation score:\n",
      "0.6712\n"
     ]
    }
   ],
   "source": [
    "cv_scores=cross_val_score(NB, X_train_em_flat, y_train_em, cv=k_fold, n_jobs=1)\n",
    "print('5-fold cross validation score of Naive Bayes Classifier:\\n', cv_scores)\n",
    "print('mean cross validation score:\\n{:.4f}'.format(np.array(cv_scores).mean()))"
   ]
  },
  {
   "cell_type": "code",
   "execution_count": 44,
   "metadata": {},
   "outputs": [
    {
     "name": "stdout",
     "output_type": "stream",
     "text": [
      "confusion matrix:\n",
      "[[748 185]\n",
      " [433 535]]\n",
      "test accuracy score:\n",
      " 0.6749079431877959\n"
     ]
    }
   ],
   "source": [
    "#Testing\n",
    "conf_matrix = confusion_matrix(y_test_em, y_pred_NB_em)\n",
    "print('confusion matrix:')\n",
    "print(conf_matrix)\n",
    "print('test accuracy score:\\n', accuracy_score(y_test_em, y_pred_NB_em))"
   ]
  },
  {
   "cell_type": "code",
   "execution_count": 45,
   "metadata": {},
   "outputs": [
    {
     "data": {
      "text/plain": [
       "<sklearn.metrics._plot.confusion_matrix.ConfusionMatrixDisplay at 0x7fdb3e54ca20>"
      ]
     },
     "execution_count": 45,
     "metadata": {},
     "output_type": "execute_result"
    },
    {
     "data": {
      "image/png": "[encoded data removed]",
      "text/plain": [
       "<Figure size 432x288 with 2 Axes>"
      ]
     },
     "metadata": {
      "needs_background": "light"
     },
     "output_type": "display_data"
    }
   ],
   "source": [
    "plot_confusion_matrix(NB_em, X_test_em_flat, y_test_em, labels=[0, 1], display_labels=['Real', 'Fake'])"
   ]
  },
  {
   "cell_type": "markdown",
   "metadata": {},
   "source": [
    "#### Logistic Regression"
   ]
  },
  {
   "cell_type": "markdown",
   "metadata": {},
   "source": [
    "##### TF-IDF"
   ]
  },
  {
   "cell_type": "code",
   "execution_count": 103,
   "metadata": {},
   "outputs": [
    {
     "data": {
      "text/plain": [
       "LogisticRegression()"
      ]
     },
     "execution_count": 103,
     "metadata": {},
     "output_type": "execute_result"
    }
   ],
   "source": [
    "# Training\n",
    "from sklearn.linear_model import LogisticRegression\n",
    "\n",
    "logreg = LogisticRegression()\n",
    "logreg.fit(X_train_tf, y_train_tf)"
   ]
  },
  {
   "cell_type": "code",
   "execution_count": 46,
   "metadata": {},
   "outputs": [
    {
     "name": "stdout",
     "output_type": "stream",
     "text": [
      "5-fold cross validation score of Logistic Regression:\n",
      " [0.8951522  0.89853439 0.89740699 0.88726043 0.89841986]\n",
      "mean cross validation score:\n",
      "0.8954\n"
     ]
    }
   ],
   "source": [
    "cv_scores=cross_val_score(logreg, X_train_tf, y_train_tf, cv=k_fold, n_jobs=2)\n",
    "print('5-fold cross validation score of Logistic Regression:\\n', cv_scores)\n",
    "print('mean cross validation score:\\n{:.4f}'.format(np.array(cv_scores).mean()))"
   ]
  },
  {
   "cell_type": "code",
   "execution_count": 47,
   "metadata": {},
   "outputs": [
    {
     "name": "stdout",
     "output_type": "stream",
     "text": [
      "Accuracy of logistic regression classifier on test set: 0.9095\n",
      "[[857  76]\n",
      " [ 96 872]]\n",
      "test accuracy score:\n",
      "0.9095\n"
     ]
    }
   ],
   "source": [
    "# Testing\n",
    "\n",
    "y_pred = logreg.predict(X_test_tf)\n",
    "print('Accuracy of logistic regression classifier on test set: {:.4f}'.format(logreg.score(X_test_tf, y_test_tf)))\n",
    "conf_matrix = confusion_matrix(y_test_tf, y_pred)\n",
    "print(conf_matrix)\n",
    "print('test accuracy score:\\n{:.4f}'.format(accuracy_score(y_test_tf, y_pred)))"
   ]
  },
  {
   "cell_type": "code",
   "execution_count": 48,
   "metadata": {},
   "outputs": [
    {
     "data": {
      "text/plain": [
       "<sklearn.metrics._plot.confusion_matrix.ConfusionMatrixDisplay at 0x7fdaf3f67fd0>"
      ]
     },
     "execution_count": 48,
     "metadata": {},
     "output_type": "execute_result"
    },
    {
     "data": {
      "image/png": "[encoded data removed]",
      "text/plain": [
       "<Figure size 432x288 with 2 Axes>"
      ]
     },
     "metadata": {
      "needs_background": "light"
     },
     "output_type": "display_data"
    }
   ],
   "source": [
    "plot_confusion_matrix(logreg, X_test_tf, y_test_tf)"
   ]
  },
  {
   "cell_type": "markdown",
   "metadata": {},
   "source": [
    "##### Word2Vec"
   ]
  },
  {
   "cell_type": "code",
   "execution_count": 104,
   "metadata": {},
   "outputs": [
    {
     "data": {
      "text/plain": [
       "LogisticRegression()"
      ]
     },
     "execution_count": 104,
     "metadata": {},
     "output_type": "execute_result"
    }
   ],
   "source": [
    "logreg_em = LogisticRegression()\n",
    "logreg_em.fit(X_train_em_flat, y_train_em)"
   ]
  },
  {
   "cell_type": "code",
   "execution_count": 49,
   "metadata": {},
   "outputs": [
    {
     "name": "stdout",
     "output_type": "stream",
     "text": [
      "5-fold cross validation score of Logistic Regression:\n",
      " [0.82412627 0.85231116 0.83878241 0.85682074 0.83182844]\n",
      "mean cross validation score:\n",
      "0.8408\n"
     ]
    }
   ],
   "source": [
    "cv_scores=cross_val_score(logreg, X_train_em_flat, y_train_em, cv=k_fold, n_jobs=2)\n",
    "print('5-fold cross validation score of Logistic Regression:\\n', cv_scores)\n",
    "print('mean cross validation score:\\n{:.4f}'.format(np.array(cv_scores).mean()))"
   ]
  },
  {
   "cell_type": "code",
   "execution_count": 50,
   "metadata": {},
   "outputs": [
    {
     "name": "stdout",
     "output_type": "stream",
     "text": [
      "[[795 138]\n",
      " [148 820]]\n",
      "test accuracy of logistic regression (W2V): 0.8496\n"
     ]
    }
   ],
   "source": [
    "y_pred_logreg_em = logreg_em.predict(X_test_em_flat)\n",
    "conf_matrix = confusion_matrix(y_test_em, y_pred_logreg_em)\n",
    "print(conf_matrix)\n",
    "print('test accuracy of logistic regression (W2V): {:.4f}'.format(accuracy_score(y_test_tf, y_pred_logreg_em)))"
   ]
  },
  {
   "cell_type": "code",
   "execution_count": 51,
   "metadata": {},
   "outputs": [
    {
     "data": {
      "text/plain": [
       "<sklearn.metrics._plot.confusion_matrix.ConfusionMatrixDisplay at 0x7fdc9093beb8>"
      ]
     },
     "execution_count": 51,
     "metadata": {},
     "output_type": "execute_result"
    },
    {
     "data": {
      "image/png": "[encoded data removed]",
      "text/plain": [
       "<Figure size 432x288 with 2 Axes>"
      ]
     },
     "metadata": {
      "needs_background": "light"
     },
     "output_type": "display_data"
    }
   ],
   "source": [
    "plot_confusion_matrix(logreg_em, X_test_em_flat, y_test_em)"
   ]
  },
  {
   "cell_type": "markdown",
   "metadata": {},
   "source": [
    "#### XGBoost"
   ]
  },
  {
   "cell_type": "markdown",
   "metadata": {},
   "source": [
    "##### TF-IDF"
   ]
  },
  {
   "cell_type": "code",
   "execution_count": 105,
   "metadata": {},
   "outputs": [
    {
     "data": {
      "text/plain": [
       "XGBClassifier(base_score=0.5, booster='gbtree', colsample_bylevel=1,\n",
       "              colsample_bynode=1, colsample_bytree=1, gamma=0, gpu_id=-1,\n",
       "              importance_type='gain', interaction_constraints='',\n",
       "              learning_rate=0.300000012, max_delta_step=0, max_depth=6,\n",
       "              min_child_weight=1, missing=nan, monotone_constraints='()',\n",
       "              n_estimators=100, n_jobs=0, num_parallel_tree=1, random_state=0,\n",
       "              reg_alpha=0, reg_lambda=1, scale_pos_weight=1, subsample=1,\n",
       "              tree_method='exact', validate_parameters=1, verbosity=None)"
      ]
     },
     "execution_count": 105,
     "metadata": {},
     "output_type": "execute_result"
    }
   ],
   "source": [
    "import xgboost as xgb\n",
    "xgb_tf = xgb.XGBClassifier()\n",
    "xgb_tf.fit(X_train_tf, y_train_tf)"
   ]
  },
  {
   "cell_type": "code",
   "execution_count": 52,
   "metadata": {},
   "outputs": [
    {
     "name": "stdout",
     "output_type": "stream",
     "text": [
      "5-fold cross validation score of XGBoost (TFIDF):\n",
      " [0.98985344 0.98985344 0.99210823 0.98647125 0.99097065]\n",
      "mean cross validation score:\n",
      "0.9899\n"
     ]
    }
   ],
   "source": [
    "cv_scores=cross_val_score(xgb_tf, X_train_tf, y_train_tf, cv=k_fold, n_jobs=2)\n",
    "print('5-fold cross validation score of XGBoost (TFIDF):\\n', cv_scores)\n",
    "print('mean cross validation score:\\n{:.4f}'.format(np.array(cv_scores).mean()))"
   ]
  },
  {
   "cell_type": "code",
   "execution_count": 53,
   "metadata": {},
   "outputs": [
    {
     "name": "stdout",
     "output_type": "stream",
     "text": [
      "[[923  10]\n",
      " [  2 966]]\n",
      "test accuracy of xgboost classifier (TFIDF): 0.9937\n"
     ]
    }
   ],
   "source": [
    "y_pred_xgb = xgb_tf.predict(X_test_tf)\n",
    "conf_matrix = confusion_matrix(y_test_tf.to_numpy(), y_pred_xgb)\n",
    "print(conf_matrix)\n",
    "print('test accuracy of xgboost classifier (TFIDF): {:.4f}'.format(accuracy_score(y_test_tf.to_numpy(), y_pred_xgb)))"
   ]
  },
  {
   "cell_type": "code",
   "execution_count": 138,
   "metadata": {},
   "outputs": [
    {
     "data": {
      "text/plain": [
       "Text(0.5, 1.0, 'XGBoost Confusion Matrix (TFIDF)')"
      ]
     },
     "execution_count": 138,
     "metadata": {},
     "output_type": "execute_result"
    },
    {
     "data": {
      "image/png": "[encoded data removed]",
      "text/plain": [
       "<Figure size 432x288 with 2 Axes>"
      ]
     },
     "metadata": {
      "needs_background": "light"
     },
     "output_type": "display_data"
    }
   ],
   "source": [
    "plot_confusion_matrix(xgb_tf, X_test_tf, y_test_tf)\n",
    "plt.title('XGBoost Confusion Matrix (TFIDF)')"
   ]
  },
  {
   "cell_type": "markdown",
   "metadata": {},
   "source": [
    "##### Word2Vec"
   ]
  },
  {
   "cell_type": "code",
   "execution_count": 106,
   "metadata": {},
   "outputs": [
    {
     "data": {
      "text/plain": [
       "XGBClassifier(base_score=0.5, booster='gbtree', colsample_bylevel=1,\n",
       "              colsample_bynode=1, colsample_bytree=1, gamma=0, gpu_id=-1,\n",
       "              importance_type='gain', interaction_constraints='',\n",
       "              learning_rate=0.300000012, max_delta_step=0, max_depth=6,\n",
       "              min_child_weight=1, missing=nan, monotone_constraints='()',\n",
       "              n_estimators=100, n_jobs=0, num_parallel_tree=1, random_state=0,\n",
       "              reg_alpha=0, reg_lambda=1, scale_pos_weight=1, subsample=1,\n",
       "              tree_method='exact', validate_parameters=1, verbosity=None)"
      ]
     },
     "execution_count": 106,
     "metadata": {},
     "output_type": "execute_result"
    }
   ],
   "source": [
    "xgb_em = xgb.XGBClassifier()\n",
    "xgb_em.fit(X_train_em_flat, y_train_em)"
   ]
  },
  {
   "cell_type": "code",
   "execution_count": 55,
   "metadata": {},
   "outputs": [
    {
     "name": "stdout",
     "output_type": "stream",
     "text": [
      "5-fold cross validation score of XGBoost (TFIDF):\n",
      " [0.86696731 0.87260428 0.87373168 0.89064262 0.87133183]\n",
      "mean cross validation score:\n",
      "0.8751\n"
     ]
    }
   ],
   "source": [
    "cv_scores=cross_val_score(xgb_em, X_train_em_flat, y_train_em, cv=k_fold, n_jobs=2)\n",
    "print('5-fold cross validation score of XGBoost (TFIDF):\\n', cv_scores)\n",
    "print('mean cross validation score:\\n{:.4f}'.format(np.array(cv_scores).mean()))"
   ]
  },
  {
   "cell_type": "code",
   "execution_count": 56,
   "metadata": {},
   "outputs": [
    {
     "name": "stdout",
     "output_type": "stream",
     "text": [
      "[[811 122]\n",
      " [116 852]]\n",
      "test accuracy of xgboost classifier (TFIDF): 0.8748\n"
     ]
    }
   ],
   "source": [
    "y_pred_xgb = xgb_em.predict(X_test_em_flat)\n",
    "conf_matrix = confusion_matrix(y_test_em.to_numpy(), y_pred_xgb)\n",
    "print(conf_matrix)\n",
    "print('test accuracy of xgboost classifier (TFIDF): {:.4f}'.format(accuracy_score(y_test_em.to_numpy(), y_pred_xgb)))"
   ]
  },
  {
   "cell_type": "code",
   "execution_count": 139,
   "metadata": {},
   "outputs": [
    {
     "data": {
      "text/plain": [
       "Text(0.5, 1.0, 'XGBoost Confusion Matrix (w2v)')"
      ]
     },
     "execution_count": 139,
     "metadata": {},
     "output_type": "execute_result"
    },
    {
     "data": {
      "image/png": "[encoded data removed]",
      "text/plain": [
       "<Figure size 432x288 with 2 Axes>"
      ]
     },
     "metadata": {
      "needs_background": "light"
     },
     "output_type": "display_data"
    }
   ],
   "source": [
    "plot_confusion_matrix(xgb_em, X_test_em_flat, y_test_em)\n",
    "plt.title('XGBoost Confusion Matrix (w2v)')"
   ]
  },
  {
   "cell_type": "markdown",
   "metadata": {},
   "source": [
    "#### Decision trees"
   ]
  },
  {
   "cell_type": "markdown",
   "metadata": {},
   "source": [
    "##### TF-IDF"
   ]
  },
  {
   "cell_type": "code",
   "execution_count": 107,
   "metadata": {},
   "outputs": [
    {
     "data": {
      "text/plain": [
       "DecisionTreeClassifier(max_depth=10)"
      ]
     },
     "execution_count": 107,
     "metadata": {},
     "output_type": "execute_result"
    }
   ],
   "source": [
    "from sklearn.tree import DecisionTreeClassifier\n",
    "decisionTree = DecisionTreeClassifier(max_depth=10)\n",
    "decisionTree.fit(X_train_tf, y_train_tf)"
   ]
  },
  {
   "cell_type": "code",
   "execution_count": 58,
   "metadata": {},
   "outputs": [
    {
     "name": "stdout",
     "output_type": "stream",
     "text": [
      "5-fold cross validation score of Decision Tree classifier:\n",
      " [0.97632469 0.98083427 0.98647125 0.97519729 0.97968397]\n",
      "mean cross validation score:\n",
      "0.9797\n"
     ]
    }
   ],
   "source": [
    "cv_scores=cross_val_score(decisionTree, X_train_tf, y_train_tf, cv=k_fold, n_jobs=1)\n",
    "print('5-fold cross validation score of Decision Tree classifier:\\n', cv_scores)\n",
    "print('mean cross validation score:\\n{:.4f}'.format(np.array(cv_scores).mean()))"
   ]
  },
  {
   "cell_type": "code",
   "execution_count": 59,
   "metadata": {},
   "outputs": [
    {
     "name": "stdout",
     "output_type": "stream",
     "text": [
      "[[915  18]\n",
      " [ 16 952]]\n",
      "test accuracy of DecisionTree classifier on test set: 0.9821\n"
     ]
    }
   ],
   "source": [
    "dt_preds = decisionTree.predict(X_test_tf)\n",
    "conf_matrix = confusion_matrix(y_test_tf, dt_preds)\n",
    "print(conf_matrix)\n",
    "print('test accuracy of DecisionTree classifier on test set: {:.4f}'.format(accuracy_score(dt_preds, y_test_tf)))"
   ]
  },
  {
   "cell_type": "code",
   "execution_count": 60,
   "metadata": {},
   "outputs": [
    {
     "data": {
      "text/plain": [
       "<sklearn.metrics._plot.confusion_matrix.ConfusionMatrixDisplay at 0x7fdc90934d30>"
      ]
     },
     "execution_count": 60,
     "metadata": {},
     "output_type": "execute_result"
    },
    {
     "data": {
      "image/png": "[encoded data removed]",
      "text/plain": [
       "<Figure size 432x288 with 2 Axes>"
      ]
     },
     "metadata": {
      "needs_background": "light"
     },
     "output_type": "display_data"
    }
   ],
   "source": [
    "plot_confusion_matrix(decisionTree, X_test_tf, y_test_tf)"
   ]
  },
  {
   "cell_type": "markdown",
   "metadata": {},
   "source": [
    "##### Word2Vec"
   ]
  },
  {
   "cell_type": "code",
   "execution_count": 108,
   "metadata": {},
   "outputs": [
    {
     "data": {
      "text/plain": [
       "DecisionTreeClassifier(max_depth=10)"
      ]
     },
     "execution_count": 108,
     "metadata": {},
     "output_type": "execute_result"
    }
   ],
   "source": [
    "decisionTree_em = DecisionTreeClassifier(max_depth=10)\n",
    "decisionTree_em.fit(X_train_em_flat, y_train_em)"
   ]
  },
  {
   "cell_type": "code",
   "execution_count": 61,
   "metadata": {},
   "outputs": [
    {
     "name": "stdout",
     "output_type": "stream",
     "text": [
      "5-fold cross validation score of Decision Tree classifier:\n",
      " [0.75422773 0.7373168  0.74408117 0.75760992 0.72460497]\n",
      "mean cross validation score:\n",
      "0.7436\n"
     ]
    }
   ],
   "source": [
    "cv_scores=cross_val_score(decisionTree_em, X_train_em_flat, y_train_em, cv=k_fold, n_jobs=1)\n",
    "print('5-fold cross validation score of Decision Tree classifier:\\n', cv_scores)\n",
    "print('mean cross validation score:\\n{:.4f}'.format(np.array(cv_scores).mean()))"
   ]
  },
  {
   "cell_type": "code",
   "execution_count": 62,
   "metadata": {},
   "outputs": [
    {
     "name": "stdout",
     "output_type": "stream",
     "text": [
      "[[704 229]\n",
      " [249 719]]\n",
      "test accuracy of DecisionTree classifier on test set: 0.7486\n"
     ]
    }
   ],
   "source": [
    "dt_preds = decisionTree_em.predict(X_test_em_flat)\n",
    "conf_matrix = confusion_matrix(y_test_em, dt_preds)\n",
    "print(conf_matrix)\n",
    "print('test accuracy of DecisionTree classifier on test set: {:.4f}'.format(accuracy_score(dt_preds, y_test_em)))"
   ]
  },
  {
   "cell_type": "code",
   "execution_count": 63,
   "metadata": {},
   "outputs": [
    {
     "data": {
      "text/plain": [
       "<sklearn.metrics._plot.confusion_matrix.ConfusionMatrixDisplay at 0x7fdaf08cdb38>"
      ]
     },
     "execution_count": 63,
     "metadata": {},
     "output_type": "execute_result"
    },
    {
     "data": {
      "image/png": "[encoded data removed]",
      "text/plain": [
       "<Figure size 432x288 with 2 Axes>"
      ]
     },
     "metadata": {
      "needs_background": "light"
     },
     "output_type": "display_data"
    }
   ],
   "source": [
    "plot_confusion_matrix(decisionTree_em, X_test_em_flat, y_test_em)"
   ]
  },
  {
   "cell_type": "markdown",
   "metadata": {},
   "source": [
    "#### MLPClassifier"
   ]
  },
  {
   "cell_type": "markdown",
   "metadata": {},
   "source": [
    "##### TF-IDF"
   ]
  },
  {
   "cell_type": "code",
   "execution_count": 109,
   "metadata": {},
   "outputs": [
    {
     "data": {
      "text/plain": [
       "MLPClassifier(max_iter=30, solver='sgd')"
      ]
     },
     "execution_count": 109,
     "metadata": {},
     "output_type": "execute_result"
    }
   ],
   "source": [
    "from sklearn.neural_network import MLPClassifier\n",
    "mlp = MLPClassifier(solver='sgd', learning_rate='constant', max_iter=30)\n",
    "mlp.fit(X_train_tf, y_train_tf)"
   ]
  },
  {
   "cell_type": "code",
   "execution_count": 64,
   "metadata": {},
   "outputs": [
    {
     "name": "stderr",
     "output_type": "stream",
     "text": [
      "/home/matto/git/ai-final-project/.venv/lib/python3.6/site-packages/sklearn/neural_network/_multilayer_perceptron.py:585: ConvergenceWarning: Stochastic Optimizer: Maximum iterations (30) reached and the optimization hasn't converged yet.\n",
      "  % self.max_iter, ConvergenceWarning)\n",
      "/home/matto/git/ai-final-project/.venv/lib/python3.6/site-packages/sklearn/neural_network/_multilayer_perceptron.py:585: ConvergenceWarning: Stochastic Optimizer: Maximum iterations (30) reached and the optimization hasn't converged yet.\n",
      "  % self.max_iter, ConvergenceWarning)\n",
      "/home/matto/git/ai-final-project/.venv/lib/python3.6/site-packages/sklearn/neural_network/_multilayer_perceptron.py:585: ConvergenceWarning: Stochastic Optimizer: Maximum iterations (30) reached and the optimization hasn't converged yet.\n",
      "  % self.max_iter, ConvergenceWarning)\n",
      "/home/matto/git/ai-final-project/.venv/lib/python3.6/site-packages/sklearn/neural_network/_multilayer_perceptron.py:585: ConvergenceWarning: Stochastic Optimizer: Maximum iterations (30) reached and the optimization hasn't converged yet.\n",
      "  % self.max_iter, ConvergenceWarning)\n",
      "/home/matto/git/ai-final-project/.venv/lib/python3.6/site-packages/sklearn/neural_network/_multilayer_perceptron.py:585: ConvergenceWarning: Stochastic Optimizer: Maximum iterations (30) reached and the optimization hasn't converged yet.\n",
      "  % self.max_iter, ConvergenceWarning)\n"
     ]
    },
    {
     "name": "stdout",
     "output_type": "stream",
     "text": [
      "5-fold cross validation score of Decision Tree classifier:\n",
      " [0.53100338 0.58399098 0.56595265 0.59977452 0.55530474]\n",
      "mean cross validation score:\n",
      "0.5672\n"
     ]
    },
    {
     "name": "stderr",
     "output_type": "stream",
     "text": [
      "/home/matto/git/ai-final-project/.venv/lib/python3.6/site-packages/sklearn/neural_network/_multilayer_perceptron.py:585: ConvergenceWarning: Stochastic Optimizer: Maximum iterations (30) reached and the optimization hasn't converged yet.\n",
      "  % self.max_iter, ConvergenceWarning)\n"
     ]
    }
   ],
   "source": [
    "cv_scores=cross_val_score(mlp, X_train_tf, y_train_tf, cv=k_fold, n_jobs=1)\n",
    "print('5-fold cross validation score of Decision Tree classifier:\\n', cv_scores)\n",
    "print('mean cross validation score:\\n{:.4f}'.format(np.array(cv_scores).mean()))"
   ]
  },
  {
   "cell_type": "code",
   "execution_count": 65,
   "metadata": {},
   "outputs": [
    {
     "name": "stdout",
     "output_type": "stream",
     "text": [
      "[[590 343]\n",
      " [474 494]]\n",
      "test of MLP classifier: 0.5702\n"
     ]
    }
   ],
   "source": [
    "mlp_preds = mlp.predict(X_test_tf)\n",
    "conf_matrix = confusion_matrix(y_test_tf, mlp_preds)\n",
    "print(conf_matrix)\n",
    "print('test of MLP classifier: {:.4f}'.format(accuracy_score(mlp_preds, y_test_tf)))"
   ]
  },
  {
   "cell_type": "code",
   "execution_count": 66,
   "metadata": {},
   "outputs": [
    {
     "data": {
      "text/plain": [
       "<sklearn.metrics._plot.confusion_matrix.ConfusionMatrixDisplay at 0x7fdaf08cd278>"
      ]
     },
     "execution_count": 66,
     "metadata": {},
     "output_type": "execute_result"
    },
    {
     "data": {
      "image/png": "[encoded data removed]",
      "text/plain": [
       "<Figure size 432x288 with 2 Axes>"
      ]
     },
     "metadata": {
      "needs_background": "light"
     },
     "output_type": "display_data"
    }
   ],
   "source": [
    "plot_confusion_matrix(mlp, X_test_tf, y_test_tf)"
   ]
  },
  {
   "cell_type": "markdown",
   "metadata": {},
   "source": [
    "##### Word2Vec"
   ]
  },
  {
   "cell_type": "code",
   "execution_count": 110,
   "metadata": {},
   "outputs": [
    {
     "data": {
      "text/plain": [
       "MLPClassifier(max_iter=30, solver='sgd')"
      ]
     },
     "execution_count": 110,
     "metadata": {},
     "output_type": "execute_result"
    }
   ],
   "source": [
    "mlp_em = MLPClassifier(solver='sgd', learning_rate='constant', max_iter=30)\n",
    "mlp_em.fit(X_train_em_flat, y_train_em)"
   ]
  },
  {
   "cell_type": "code",
   "execution_count": 67,
   "metadata": {},
   "outputs": [
    {
     "name": "stderr",
     "output_type": "stream",
     "text": [
      "/home/matto/git/ai-final-project/.venv/lib/python3.6/site-packages/sklearn/neural_network/_multilayer_perceptron.py:585: ConvergenceWarning: Stochastic Optimizer: Maximum iterations (30) reached and the optimization hasn't converged yet.\n",
      "  % self.max_iter, ConvergenceWarning)\n",
      "/home/matto/git/ai-final-project/.venv/lib/python3.6/site-packages/sklearn/neural_network/_multilayer_perceptron.py:585: ConvergenceWarning: Stochastic Optimizer: Maximum iterations (30) reached and the optimization hasn't converged yet.\n",
      "  % self.max_iter, ConvergenceWarning)\n",
      "/home/matto/git/ai-final-project/.venv/lib/python3.6/site-packages/sklearn/neural_network/_multilayer_perceptron.py:585: ConvergenceWarning: Stochastic Optimizer: Maximum iterations (30) reached and the optimization hasn't converged yet.\n",
      "  % self.max_iter, ConvergenceWarning)\n",
      "/home/matto/git/ai-final-project/.venv/lib/python3.6/site-packages/sklearn/neural_network/_multilayer_perceptron.py:585: ConvergenceWarning: Stochastic Optimizer: Maximum iterations (30) reached and the optimization hasn't converged yet.\n",
      "  % self.max_iter, ConvergenceWarning)\n",
      "/home/matto/git/ai-final-project/.venv/lib/python3.6/site-packages/sklearn/neural_network/_multilayer_perceptron.py:585: ConvergenceWarning: Stochastic Optimizer: Maximum iterations (30) reached and the optimization hasn't converged yet.\n",
      "  % self.max_iter, ConvergenceWarning)\n"
     ]
    },
    {
     "name": "stdout",
     "output_type": "stream",
     "text": [
      "5-fold cross validation score of Decision Tree classifier:\n",
      " [0.52423901 0.5794814  0.55693348 0.59301015 0.54401806]\n",
      "mean cross validation score:\n",
      "0.5595\n"
     ]
    },
    {
     "name": "stderr",
     "output_type": "stream",
     "text": [
      "/home/matto/git/ai-final-project/.venv/lib/python3.6/site-packages/sklearn/neural_network/_multilayer_perceptron.py:585: ConvergenceWarning: Stochastic Optimizer: Maximum iterations (30) reached and the optimization hasn't converged yet.\n",
      "  % self.max_iter, ConvergenceWarning)\n"
     ]
    }
   ],
   "source": [
    "cv_scores=cross_val_score(mlp_em, X_train_em_flat, y_train_em, cv=k_fold, n_jobs=1)\n",
    "print('5-fold cross validation score of Decision Tree classifier:\\n', cv_scores)\n",
    "print('mean cross validation score:\\n{:.4f}'.format(np.array(cv_scores).mean()))"
   ]
  },
  {
   "cell_type": "code",
   "execution_count": 68,
   "metadata": {},
   "outputs": [
    {
     "name": "stdout",
     "output_type": "stream",
     "text": [
      "[[577 356]\n",
      " [461 507]]\n",
      "test of MLP classifier: 0.5702\n"
     ]
    }
   ],
   "source": [
    "mlp_preds = mlp_em.predict(X_test_em_flat)\n",
    "conf_matrix = confusion_matrix(y_test_em, mlp_preds)\n",
    "print(conf_matrix)\n",
    "print('test of MLP classifier: {:.4f}'.format(accuracy_score(mlp_preds, y_test_em)))"
   ]
  },
  {
   "cell_type": "code",
   "execution_count": 69,
   "metadata": {},
   "outputs": [
    {
     "data": {
      "text/plain": [
       "<sklearn.metrics._plot.confusion_matrix.ConfusionMatrixDisplay at 0x7fdaf06e89e8>"
      ]
     },
     "execution_count": 69,
     "metadata": {},
     "output_type": "execute_result"
    },
    {
     "data": {
      "image/png": "[encoded data removed]",
      "text/plain": [
       "<Figure size 432x288 with 2 Axes>"
      ]
     },
     "metadata": {
      "needs_background": "light"
     },
     "output_type": "display_data"
    }
   ],
   "source": [
    "plot_confusion_matrix(mlp_em, X_test_em_flat, y_test_em)"
   ]
  },
  {
   "cell_type": "markdown",
   "metadata": {},
   "source": [
    "#### Random Forest"
   ]
  },
  {
   "cell_type": "markdown",
   "metadata": {},
   "source": [
    "##### TF-IDF"
   ]
  },
  {
   "cell_type": "code",
   "execution_count": 111,
   "metadata": {},
   "outputs": [
    {
     "data": {
      "text/plain": [
       "RandomForestClassifier()"
      ]
     },
     "execution_count": 111,
     "metadata": {},
     "output_type": "execute_result"
    }
   ],
   "source": [
    "# Import Random Forest Model\n",
    "from sklearn.ensemble import RandomForestClassifier\n",
    "\n",
    "rf=RandomForestClassifier(n_estimators=100)\n",
    "rf.fit(X_train_tf,y_train_tf)"
   ]
  },
  {
   "cell_type": "code",
   "execution_count": 70,
   "metadata": {},
   "outputs": [
    {
     "name": "stdout",
     "output_type": "stream",
     "text": [
      "5-fold cross validation score of Decision Tree classifier:\n",
      " [0.97181511 0.9740699  0.98647125 0.98534386 0.97291196]\n",
      "mean cross validation score:\n",
      "0.9781\n"
     ]
    }
   ],
   "source": [
    "cv_scores=cross_val_score(rf, X_train_tf, y_train_tf, cv=k_fold, n_jobs=1)\n",
    "print('5-fold cross validation score of Decision Tree classifier:\\n', cv_scores)\n",
    "print('mean cross validation score:\\n{:.4f}'.format(np.array(cv_scores).mean()))"
   ]
  },
  {
   "cell_type": "code",
   "execution_count": 71,
   "metadata": {},
   "outputs": [
    {
     "name": "stdout",
     "output_type": "stream",
     "text": [
      "[[906  27]\n",
      " [  8 960]]\n",
      "Accuracy of RandomForest classifier on test set: 0.9816\n"
     ]
    }
   ],
   "source": [
    "rf_pred=rf.predict(X_test_tf)\n",
    "conf_matrix = confusion_matrix(y_test_tf, rf_pred)\n",
    "print(conf_matrix)\n",
    "print('Accuracy of RandomForest classifier on test set: {:.4f}'.format(accuracy_score(rf_pred, y_test_tf)))"
   ]
  },
  {
   "cell_type": "code",
   "execution_count": 72,
   "metadata": {},
   "outputs": [
    {
     "data": {
      "text/plain": [
       "<sklearn.metrics._plot.confusion_matrix.ConfusionMatrixDisplay at 0x7fdaf0697080>"
      ]
     },
     "execution_count": 72,
     "metadata": {},
     "output_type": "execute_result"
    },
    {
     "data": {
      "image/png": "[encoded data removed]",
      "text/plain": [
       "<Figure size 432x288 with 2 Axes>"
      ]
     },
     "metadata": {
      "needs_background": "light"
     },
     "output_type": "display_data"
    }
   ],
   "source": [
    "plot_confusion_matrix(rf, X_test_tf, y_test_tf)"
   ]
  },
  {
   "cell_type": "markdown",
   "metadata": {},
   "source": [
    "##### Word2Vec"
   ]
  },
  {
   "cell_type": "code",
   "execution_count": 112,
   "metadata": {},
   "outputs": [
    {
     "data": {
      "text/plain": [
       "RandomForestClassifier()"
      ]
     },
     "execution_count": 112,
     "metadata": {},
     "output_type": "execute_result"
    }
   ],
   "source": [
    "rf_em = RandomForestClassifier(n_estimators=100)\n",
    "rf_em.fit(X_train_em_flat,y_train_em)"
   ]
  },
  {
   "cell_type": "code",
   "execution_count": 73,
   "metadata": {},
   "outputs": [
    {
     "name": "stdout",
     "output_type": "stream",
     "text": [
      "5-fold cross validation score of Decision Tree classifier:\n",
      " [0.82750846 0.85005637 0.85118377 0.85794814 0.83521445]\n",
      "mean cross validation score:\n",
      "0.8444\n"
     ]
    }
   ],
   "source": [
    "cv_scores = cross_val_score(rf_em, X_train_em_flat, y_train_em, cv=k_fold, n_jobs=1)\n",
    "print('5-fold cross validation score of Decision Tree classifier:\\n', cv_scores)\n",
    "print('mean cross validation score:\\n{:.4f}'.format(np.array(cv_scores).mean()))"
   ]
  },
  {
   "cell_type": "code",
   "execution_count": 74,
   "metadata": {},
   "outputs": [
    {
     "name": "stdout",
     "output_type": "stream",
     "text": [
      "[[788 145]\n",
      " [119 849]]\n",
      "Accuracy of RandomForest classifier on test set: 0.8611\n"
     ]
    }
   ],
   "source": [
    "rf_pred = rf_em.predict(X_test_em_flat)\n",
    "conf_matrix = confusion_matrix(y_test_em, rf_pred)\n",
    "print(conf_matrix)\n",
    "print('Accuracy of RandomForest classifier on test set: {:.4f}'.format(accuracy_score(rf_pred, y_test_em)))"
   ]
  },
  {
   "cell_type": "code",
   "execution_count": 75,
   "metadata": {},
   "outputs": [
    {
     "data": {
      "text/plain": [
       "<sklearn.metrics._plot.confusion_matrix.ConfusionMatrixDisplay at 0x7fdaf02f0470>"
      ]
     },
     "execution_count": 75,
     "metadata": {},
     "output_type": "execute_result"
    },
    {
     "data": {
      "image/png": "[encoded data removed]",
      "text/plain": [
       "<Figure size 432x288 with 2 Axes>"
      ]
     },
     "metadata": {
      "needs_background": "light"
     },
     "output_type": "display_data"
    }
   ],
   "source": [
    "plot_confusion_matrix(rf_em, X_test_em_flat, y_test_em)"
   ]
  },
  {
   "cell_type": "markdown",
   "metadata": {},
   "source": [
    "#### SUPPORT VECTOR MACHINE (SVM)"
   ]
  },
  {
   "cell_type": "markdown",
   "metadata": {},
   "source": [
    "#### TFIDF"
   ]
  },
  {
   "cell_type": "code",
   "execution_count": 121,
   "metadata": {},
   "outputs": [
    {
     "data": {
      "text/plain": [
       "SVC(kernel='linear', probability=True)"
      ]
     },
     "execution_count": 121,
     "metadata": {},
     "output_type": "execute_result"
    }
   ],
   "source": [
    "#Import svm model\n",
    "from sklearn import svm\n",
    "\n",
    "#Create a svm Classifier\n",
    "sv = svm.SVC(kernel='linear', probability=True) \n",
    "\n",
    "#Train the model using the training sets\n",
    "sv.fit(X_train_tf, y_train_tf)"
   ]
  },
  {
   "cell_type": "code",
   "execution_count": 122,
   "metadata": {},
   "outputs": [
    {
     "name": "stdout",
     "output_type": "stream",
     "text": [
      "5-fold cross validation score of Support Vector Machine:\n",
      " [0.94588501 0.94926719 0.95603157 0.93348365 0.94018059]\n",
      "mean cross validation score:\n",
      "0.9450\n"
     ]
    }
   ],
   "source": [
    "cv_scores=cross_val_score(sv, X_train_tf, y_train_tf, cv=k_fold, n_jobs=1)\n",
    "print('5-fold cross validation score of Support Vector Machine:\\n', cv_scores)\n",
    "print('mean cross validation score:\\n{:.4f}'.format(np.array(cv_scores).mean()))"
   ]
  },
  {
   "cell_type": "code",
   "execution_count": 123,
   "metadata": {},
   "outputs": [
    {
     "name": "stdout",
     "output_type": "stream",
     "text": [
      "Accuracy of Support Vector Machine on test set (TFIDF): 0.9579\n"
     ]
    }
   ],
   "source": [
    "#Predict the response for test dataset\n",
    "sv_pred = sv.predict(X_test_tf)\n",
    "print('Accuracy of Support Vector Machine on test set (TFIDF): {:.4f}'.format(accuracy_score(sv_pred, y_test_tf)))"
   ]
  },
  {
   "cell_type": "code",
   "execution_count": 133,
   "metadata": {
    "scrolled": true
   },
   "outputs": [
    {
     "data": {
      "text/plain": [
       "<sklearn.metrics._plot.confusion_matrix.ConfusionMatrixDisplay at 0x1eea7121e48>"
      ]
     },
     "execution_count": 133,
     "metadata": {},
     "output_type": "execute_result"
    },
    {
     "data": {
      "image/png": "[encoded data removed]",
      "text/plain": [
       "<Figure size 432x288 with 2 Axes>"
      ]
     },
     "metadata": {
      "needs_background": "light"
     },
     "output_type": "display_data"
    }
   ],
   "source": [
    "plot_confusion_matrix(sv, X_test_tf, y_test_tf)"
   ]
  },
  {
   "cell_type": "markdown",
   "metadata": {},
   "source": [
    "#### Word2Vec"
   ]
  },
  {
   "cell_type": "code",
   "execution_count": 130,
   "metadata": {},
   "outputs": [
    {
     "data": {
      "text/plain": [
       "SVC(kernel='linear', probability=True)"
      ]
     },
     "execution_count": 130,
     "metadata": {},
     "output_type": "execute_result"
    }
   ],
   "source": [
    "#Create a svm Classifier\n",
    "sv_em = svm.SVC(kernel='linear', probability=True) \n",
    "\n",
    "#Train the model using the training sets\n",
    "sv_em.fit(X_train_em_flat,y_train_em)"
   ]
  },
  {
   "cell_type": "code",
   "execution_count": 131,
   "metadata": {},
   "outputs": [
    {
     "name": "stdout",
     "output_type": "stream",
     "text": [
      "5-fold cross validation score of Support Vector Machine:\n",
      " [0.86133033 0.85907554 0.85794814 0.85907554 0.8476298 ]\n",
      "mean cross validation score:\n",
      "0.8570\n"
     ]
    }
   ],
   "source": [
    "cv_scores=cross_val_score(sv,X_train_em_flat, y_train_em, cv=k_fold, n_jobs=1)\n",
    "print('5-fold cross validation score of Support Vector Machine:\\n', cv_scores)\n",
    "print('mean cross validation score:\\n{:.4f}'.format(np.array(cv_scores).mean()))"
   ]
  },
  {
   "cell_type": "code",
   "execution_count": 132,
   "metadata": {},
   "outputs": [
    {
     "name": "stdout",
     "output_type": "stream",
     "text": [
      "Accuracy of Support Vector Machine on test set (w2v): 0.8617\n"
     ]
    }
   ],
   "source": [
    "#Predict the response for test dataset\n",
    "sv_pred = sv_em.predict(X_test_em_flat)\n",
    "print('Accuracy of Support Vector Machine on test set (w2v): {:.4f}'.format(accuracy_score(sv_pred,y_test_em)))"
   ]
  },
  {
   "cell_type": "code",
   "execution_count": 134,
   "metadata": {},
   "outputs": [
    {
     "data": {
      "text/plain": [
       "<sklearn.metrics._plot.confusion_matrix.ConfusionMatrixDisplay at 0x1eea7133bc8>"
      ]
     },
     "execution_count": 134,
     "metadata": {},
     "output_type": "execute_result"
    },
    {
     "data": {
      "image/png": "[encoded data removed]",
      "text/plain": [
       "<Figure size 432x288 with 2 Axes>"
      ]
     },
     "metadata": {
      "needs_background": "light"
     },
     "output_type": "display_data"
    }
   ],
   "source": [
    "plot_confusion_matrix(sv_em, X_test_em_flat, y_test_em)"
   ]
  },
  {
   "cell_type": "markdown",
   "metadata": {},
   "source": [
    "## Part 4: Model Comparison and Evaluation"
   ]
  },
  {
   "cell_type": "code",
   "execution_count": 126,
   "metadata": {},
   "outputs": [],
   "source": [
    "# TFIDF classifiers\n",
    "models = [NB,\n",
    "          logreg,\n",
    "          decisionTree,\n",
    "          rf,\n",
    "          xgb_tf,\n",
    "          mlp,\n",
    "         sv]\n",
    "\n",
    "result_table = pd.DataFrame(columns=['classifier', 'fpr','tpr','auc'])\n",
    "\n",
    "for model in models:\n",
    "    #model = cls.fit(X_train_tf, y_train_tf)\n",
    "    yproba = model.predict_proba(X_test_tf)[::,1]\n",
    "    \n",
    "    fpr, tpr, _ = roc_curve(y_test_tf,  yproba)\n",
    "    auc = roc_auc_score(y_test_tf, yproba)\n",
    "    \n",
    "    result_table = result_table.append({'classifier':model.__class__.__name__,\n",
    "                                        'fpr':fpr, \n",
    "                                        'tpr':tpr, \n",
    "                                        'auc':auc}, ignore_index=True)\n",
    "\n",
    "# Set name of the classifiers as index labels\n",
    "#result_table.set_index('classifier', inplace=True)"
   ]
  },
  {
   "cell_type": "code",
   "execution_count": 127,
   "metadata": {},
   "outputs": [],
   "source": [
    "result_table.set_index('classifier', inplace=True)"
   ]
  },
  {
   "cell_type": "code",
   "execution_count": 128,
   "metadata": {},
   "outputs": [
    {
     "data": {
      "image/png": "[encoded data removed]",
      "text/plain": [
       "<Figure size 720x576 with 1 Axes>"
      ]
     },
     "metadata": {
      "needs_background": "light"
     },
     "output_type": "display_data"
    }
   ],
   "source": [
    "fig = plt.figure(figsize=(10,8))\n",
    "\n",
    "for i in result_table.index:\n",
    "    plt.plot(result_table.loc[i]['fpr'], \n",
    "             result_table.loc[i]['tpr'], \n",
    "             label=\"{}, AUC={:.3f}\".format(i, result_table.loc[i]['auc']))\n",
    "    \n",
    "plt.plot([0,1], [0,1], color='orange', linestyle='--')\n",
    "\n",
    "plt.xticks(np.arange(0.0, 1.1, step=0.1))\n",
    "plt.xlabel(\"False Positive Rate\", fontsize=15)\n",
    "\n",
    "plt.yticks(np.arange(0.0, 1.1, step=0.1))\n",
    "plt.ylabel(\"True Positive Rate\", fontsize=15)\n",
    "\n",
    "plt.title('ROC Curve Analysis - TFIDF predictors', fontweight='bold', fontsize=15)\n",
    "plt.legend(prop={'size':13}, loc='lower right')\n",
    "\n",
    "plt.show()"
   ]
  },
  {
   "cell_type": "code",
   "execution_count": 135,
   "metadata": {},
   "outputs": [],
   "source": [
    "# Word2Vec Classifiers\n",
    "models = [NB_em,\n",
    "          logreg_em,\n",
    "          decisionTree_em,\n",
    "          rf_em,\n",
    "          xgb_em,\n",
    "          mlp_em,\n",
    "         sv_em]\n",
    "\n",
    "result_table = pd.DataFrame(columns=['classifier', 'fpr','tpr','auc'])\n",
    "\n",
    "for model in models:\n",
    "    #model = cls.fit(X_train_tf, y_train_tf)\n",
    "    yproba = model.predict_proba(X_test_em_flat)[::,1]\n",
    "    \n",
    "    fpr, tpr, _ = roc_curve(y_test_tf,  yproba)\n",
    "    auc = roc_auc_score(y_test_tf, yproba)\n",
    "    \n",
    "    result_table = result_table.append({'classifier':model.__class__.__name__,\n",
    "                                        'fpr':fpr, \n",
    "                                        'tpr':tpr, \n",
    "                                        'auc':auc}, ignore_index=True)\n",
    "\n",
    "# Set name of the classifiers as index labels\n",
    "#result_table.set_index('classifier', inplace=True)"
   ]
  },
  {
   "cell_type": "code",
   "execution_count": 136,
   "metadata": {},
   "outputs": [],
   "source": [
    "result_table.set_index('classifier', inplace=True)"
   ]
  },
  {
   "cell_type": "code",
   "execution_count": 137,
   "metadata": {},
   "outputs": [
    {
     "data": {
      "image/png": "[encoded data removed]",
      "text/plain": [
       "<Figure size 720x576 with 1 Axes>"
      ]
     },
     "metadata": {
      "needs_background": "light"
     },
     "output_type": "display_data"
    }
   ],
   "source": [
    "fig = plt.figure(figsize=(10,8))\n",
    "\n",
    "for i in result_table.index:\n",
    "    plt.plot(result_table.loc[i]['fpr'], \n",
    "             result_table.loc[i]['tpr'], \n",
    "             label=\"{}, AUC={:.3f}\".format(i, result_table.loc[i]['auc']))\n",
    "    \n",
    "plt.plot([0,1], [0,1], color='orange', linestyle='--')\n",
    "\n",
    "plt.xticks(np.arange(0.0, 1.1, step=0.1))\n",
    "plt.xlabel(\"False Positive Rate\", fontsize=15)\n",
    "\n",
    "plt.yticks(np.arange(0.0, 1.1, step=0.1))\n",
    "plt.ylabel(\"True Positive Rate\", fontsize=15)\n",
    "\n",
    "plt.title('ROC Curve Analysis - w2v predictors', fontweight='bold', fontsize=15)\n",
    "plt.legend(prop={'size':13}, loc='lower right')\n",
    "\n",
    "plt.show()"
   ]
  },
  {
   "cell_type": "markdown",
   "metadata": {},
   "source": [
    "### LSTM model with google news pretrained word2vec model"
   ]
  },
  {
   "cell_type": "code",
   "execution_count": 21,
   "metadata": {},
   "outputs": [],
   "source": [
    "from keras.preprocessing.text import Tokenizer\n",
    "from keras.preprocessing.sequence import pad_sequences\n",
    "from keras.utils import to_categorical\n",
    "from keras.layers import Dense, Input, GlobalMaxPooling1D, LSTM\n",
    "from keras.layers import Conv1D, MaxPooling1D, Embedding, Dropout, Activation, Flatten\n",
    "from keras.models import Model\n",
    "from keras.initializers import Constant\n",
    "from keras.models import Sequential\n",
    "from keras.callbacks import EarlyStopping"
   ]
  },
  {
   "cell_type": "code",
   "execution_count": 22,
   "metadata": {},
   "outputs": [],
   "source": [
    "MAX_SEQUENCE_LENGTH = 500\n",
    "MAX_NUM_WORDS = 10000\n",
    "EMBEDDING_DIM = 300"
   ]
  },
  {
   "cell_type": "code",
   "execution_count": 23,
   "metadata": {},
   "outputs": [],
   "source": [
    "x_train,x_test,y_train,y_test = train_test_split(news_df.combined,news_df.prediction_label,random_state = 42, test_size=0.3, shuffle=True)"
   ]
  },
  {
   "cell_type": "code",
   "execution_count": 24,
   "metadata": {},
   "outputs": [
    {
     "name": "stdout",
     "output_type": "stream",
     "text": [
      "(4434,)\n",
      "(4434,)\n",
      "(1901,)\n",
      "(1901,)\n"
     ]
    }
   ],
   "source": [
    "print(x_train.shape)\n",
    "print(y_train.shape)\n",
    "print(x_test.shape)\n",
    "print(y_test.shape)"
   ]
  },
  {
   "cell_type": "code",
   "execution_count": 25,
   "metadata": {},
   "outputs": [
    {
     "name": "stdout",
     "output_type": "stream",
     "text": [
      "Found 47625 unique tokens. and 4434 lines \n"
     ]
    }
   ],
   "source": [
    "tokenizer = Tokenizer(num_words=MAX_NUM_WORDS)\n",
    "tokenizer.fit_on_texts(x_train)\n",
    "\n",
    "# Transforms each text in texts to a sequence of integers. \n",
    "tokenized_train = tokenizer.texts_to_sequences(x_train)\n",
    "X_train = pad_sequences(tokenized_train, maxlen=MAX_SEQUENCE_LENGTH)\n",
    "word_index = tokenizer.word_index\n",
    "print('Found {} unique tokens. and {} lines '.format(len(word_index), len(X_train)))"
   ]
  },
  {
   "cell_type": "code",
   "execution_count": 26,
   "metadata": {},
   "outputs": [],
   "source": [
    "tokenized_test = tokenizer.texts_to_sequences(x_test)\n",
    "X_test = pad_sequences(tokenized_test, maxlen=MAX_SEQUENCE_LENGTH)"
   ]
  },
  {
   "cell_type": "code",
   "execution_count": 27,
   "metadata": {},
   "outputs": [],
   "source": [
    "def get_embeddings(path):\n",
    "  #extracting word vectors from google news vector\n",
    "    embeddings_index = {}\n",
    "    for word, vector in zip(w2v_model.vocab, w2v_model.vectors):\n",
    "        coefs = np.asarray(vector, dtype='float32')\n",
    "        embeddings_index[word] = coefs\n",
    "  \n",
    "    return embeddings_index"
   ]
  },
  {
   "cell_type": "code",
   "execution_count": 28,
   "metadata": {},
   "outputs": [
    {
     "name": "stdout",
     "output_type": "stream",
     "text": [
      "Found 3000000 word vectors.\n"
     ]
    }
   ],
   "source": [
    "embeddings_index = {}\n",
    "embeddings_index = get_embeddings('GoogleNews-vectors-negative300.bin')\n",
    "print('Found %s word vectors.' % len(embeddings_index))"
   ]
  },
  {
   "cell_type": "code",
   "execution_count": 29,
   "metadata": {},
   "outputs": [],
   "source": [
    "vocab_size = len(tokenizer.word_index) + 1\n",
    "\n",
    "embedding_matrix = np.zeros((vocab_size, EMBEDDING_DIM))\n",
    "for word, i in word_index.items():\n",
    "    try:\n",
    "        embedding_vector = embeddings_index[word]\n",
    "        embedding_matrix[i] = embedding_vector\n",
    "    except KeyError:\n",
    "        embedding_matrix[i]=np.random.normal(0,np.sqrt(0.25),EMBEDDING_DIM)"
   ]
  },
  {
   "cell_type": "code",
   "execution_count": 30,
   "metadata": {},
   "outputs": [],
   "source": [
    "del embeddings_index # for saving memory"
   ]
  },
  {
   "cell_type": "code",
   "execution_count": 31,
   "metadata": {},
   "outputs": [],
   "source": [
    "def lstm_net1():\n",
    "    model = Sequential()\n",
    "\n",
    "    #Non-trainable embeddidng layer since we are using a pretrained word2vec model\n",
    "    model.add(Embedding(vocab_size, output_dim=EMBEDDING_DIM, weights=[embedding_matrix], input_length=MAX_SEQUENCE_LENGTH, trainable=False))\n",
    "    model.add(LSTM(units=128 , return_sequences = True))\n",
    "    model.add(Dropout(0.2))\n",
    "    model.add(LSTM(units=64))\n",
    "    model.add(Dropout(0.1))\n",
    "    model.add(Dense(units = 32 , activation = 'relu'))\n",
    "    model.add(Dense(1, activation='sigmoid'))\n",
    "    model.compile(optimizer='adam', loss='binary_crossentropy', metrics=['accuracy'])\n",
    "    \n",
    "    return model"
   ]
  },
  {
   "cell_type": "code",
   "execution_count": 32,
   "metadata": {},
   "outputs": [
    {
     "name": "stdout",
     "output_type": "stream",
     "text": [
      "Model: \"sequential\"\n",
      "_________________________________________________________________\n",
      "Layer (type)                 Output Shape              Param #   \n",
      "=================================================================\n",
      "embedding (Embedding)        (None, 500, 300)          14287800  \n",
      "_________________________________________________________________\n",
      "lstm (LSTM)                  (None, 500, 128)          219648    \n",
      "_________________________________________________________________\n",
      "dropout (Dropout)            (None, 500, 128)          0         \n",
      "_________________________________________________________________\n",
      "lstm_1 (LSTM)                (None, 64)                49408     \n",
      "_________________________________________________________________\n",
      "dropout_1 (Dropout)          (None, 64)                0         \n",
      "_________________________________________________________________\n",
      "dense (Dense)                (None, 32)                2080      \n",
      "_________________________________________________________________\n",
      "dense_1 (Dense)              (None, 1)                 33        \n",
      "=================================================================\n",
      "Total params: 14,558,969\n",
      "Trainable params: 271,169\n",
      "Non-trainable params: 14,287,800\n",
      "_________________________________________________________________\n"
     ]
    }
   ],
   "source": [
    "#training an LSTM network\n",
    "model = lstm_net1()\n",
    "model.summary()"
   ]
  },
  {
   "cell_type": "code",
   "execution_count": 33,
   "metadata": {},
   "outputs": [],
   "source": [
    "es = EarlyStopping(monitor='val_accuracy', patience = 3)"
   ]
  },
  {
   "cell_type": "code",
   "execution_count": 34,
   "metadata": {},
   "outputs": [
    {
     "name": "stdout",
     "output_type": "stream",
     "text": [
      "Epoch 1/8\n",
      "18/18 [==============================] - 92s 5s/step - loss: 0.6049 - accuracy: 0.6874 - val_loss: 0.5250 - val_accuracy: 0.7538\n",
      "Epoch 2/8\n",
      "18/18 [==============================] - 119s 7s/step - loss: 0.4452 - accuracy: 0.8033 - val_loss: 0.4293 - val_accuracy: 0.8327\n",
      "Epoch 3/8\n",
      "18/18 [==============================] - 133s 7s/step - loss: 0.3793 - accuracy: 0.8392 - val_loss: 0.4765 - val_accuracy: 0.8448\n",
      "Epoch 4/8\n",
      "18/18 [==============================] - 138s 8s/step - loss: 0.4141 - accuracy: 0.8363 - val_loss: 0.4023 - val_accuracy: 0.8464\n",
      "Epoch 5/8\n",
      "18/18 [==============================] - 146s 8s/step - loss: 0.5043 - accuracy: 0.7700 - val_loss: 0.4548 - val_accuracy: 0.7864\n",
      "Epoch 6/8\n",
      "18/18 [==============================] - 150s 8s/step - loss: 0.4309 - accuracy: 0.8054 - val_loss: 0.4127 - val_accuracy: 0.8143\n",
      "Epoch 7/8\n",
      "18/18 [==============================] - 154s 9s/step - loss: 0.3632 - accuracy: 0.8482 - val_loss: 0.3312 - val_accuracy: 0.8595\n",
      "Epoch 8/8\n",
      "18/18 [==============================] - 156s 9s/step - loss: 0.2980 - accuracy: 0.8872 - val_loss: 0.3253 - val_accuracy: 0.8574\n"
     ]
    }
   ],
   "source": [
    "history = model.fit(X_train, y_train, batch_size = 256 , validation_data = (X_test,y_test) , epochs = 8, callbacks=[es])"
   ]
  },
  {
   "cell_type": "code",
   "execution_count": 36,
   "metadata": {},
   "outputs": [
    {
     "name": "stdout",
     "output_type": "stream",
     "text": [
      "test accuracy score:\n",
      " 0.8574434508153603\n"
     ]
    }
   ],
   "source": [
    "lstm_pred = model.predict_classes(X_test)\n",
    "cf_matrix = confusion_matrix(y_test,lstm_pred)\n",
    "print('test accuracy score:\\n', accuracy_score(y_test, lstm_pred))"
   ]
  },
  {
   "cell_type": "code",
   "execution_count": 37,
   "metadata": {},
   "outputs": [
    {
     "name": "stdout",
     "output_type": "stream",
     "text": [
      "[[825 108]\n",
      " [163 805]]\n"
     ]
    }
   ],
   "source": [
    "print(cf_matrix)"
   ]
  },
  {
   "cell_type": "code",
   "execution_count": null,
   "metadata": {},
   "outputs": [],
   "source": []
  }
 ],
 "metadata": {
  "kernelspec": {
   "display_name": "Python 3",
   "language": "python",
   "name": "python3"
  },
  "language_info": {
   "codemirror_mode": {
    "name": "ipython",
    "version": 3
   },
   "file_extension": ".py",
   "mimetype": "text/x-python",
   "name": "python",
   "nbconvert_exporter": "python",
   "pygments_lexer": "ipython3",
   "version": "3.7.7"
  }
 },
 "nbformat": 4,
 "nbformat_minor": 4
}

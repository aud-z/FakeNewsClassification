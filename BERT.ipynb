{
 "cells": [
  {
   "cell_type": "code",
   "execution_count": 1,
   "metadata": {},
   "outputs": [
    {
     "name": "stdout",
     "output_type": "stream",
     "text": [
      "Requirement already satisfied: simpletransformers in /Users/dkaranikos/opt/anaconda3/lib/python3.8/site-packages (0.51.0)\n",
      "Requirement already satisfied: scikit-learn in /Users/dkaranikos/opt/anaconda3/lib/python3.8/site-packages (from simpletransformers) (0.23.2)\n",
      "Requirement already satisfied: regex in /Users/dkaranikos/opt/anaconda3/lib/python3.8/site-packages (from simpletransformers) (2020.10.15)\n",
      "Requirement already satisfied: tensorboardx in /Users/dkaranikos/opt/anaconda3/lib/python3.8/site-packages (from simpletransformers) (2.1)\n",
      "Requirement already satisfied: tokenizers in /Users/dkaranikos/opt/anaconda3/lib/python3.8/site-packages (from simpletransformers) (0.9.4)\n",
      "Requirement already satisfied: tqdm>=4.47.0 in /Users/dkaranikos/opt/anaconda3/lib/python3.8/site-packages (from simpletransformers) (4.50.2)\n",
      "Requirement already satisfied: transformers>=4.0.0 in /Users/dkaranikos/opt/anaconda3/lib/python3.8/site-packages (from simpletransformers) (4.0.0)\n",
      "Requirement already satisfied: streamlit in /Users/dkaranikos/opt/anaconda3/lib/python3.8/site-packages (from simpletransformers) (0.72.0)\n",
      "Requirement already satisfied: requests in /Users/dkaranikos/opt/anaconda3/lib/python3.8/site-packages (from simpletransformers) (2.24.0)\n",
      "Requirement already satisfied: wandb in /Users/dkaranikos/opt/anaconda3/lib/python3.8/site-packages (from simpletransformers) (0.10.12)\n",
      "Requirement already satisfied: pandas in /Users/dkaranikos/opt/anaconda3/lib/python3.8/site-packages (from simpletransformers) (1.1.3)\n",
      "Requirement already satisfied: scipy in /Users/dkaranikos/opt/anaconda3/lib/python3.8/site-packages (from simpletransformers) (1.5.2)\n",
      "Requirement already satisfied: seqeval in /Users/dkaranikos/opt/anaconda3/lib/python3.8/site-packages (from simpletransformers) (1.2.2)\n",
      "Requirement already satisfied: numpy in /Users/dkaranikos/opt/anaconda3/lib/python3.8/site-packages (from simpletransformers) (1.18.5)\n",
      "Requirement already satisfied: threadpoolctl>=2.0.0 in /Users/dkaranikos/opt/anaconda3/lib/python3.8/site-packages (from scikit-learn->simpletransformers) (2.1.0)\n",
      "Requirement already satisfied: joblib>=0.11 in /Users/dkaranikos/opt/anaconda3/lib/python3.8/site-packages (from scikit-learn->simpletransformers) (0.17.0)\n",
      "Requirement already satisfied: protobuf>=3.8.0 in /Users/dkaranikos/opt/anaconda3/lib/python3.8/site-packages (from tensorboardx->simpletransformers) (3.14.0)\n",
      "Requirement already satisfied: six in /Users/dkaranikos/opt/anaconda3/lib/python3.8/site-packages (from tensorboardx->simpletransformers) (1.15.0)\n",
      "Requirement already satisfied: filelock in /Users/dkaranikos/opt/anaconda3/lib/python3.8/site-packages (from transformers>=4.0.0->simpletransformers) (3.0.12)\n",
      "Requirement already satisfied: packaging in /Users/dkaranikos/opt/anaconda3/lib/python3.8/site-packages (from transformers>=4.0.0->simpletransformers) (20.4)\n",
      "Requirement already satisfied: sacremoses in /Users/dkaranikos/opt/anaconda3/lib/python3.8/site-packages (from transformers>=4.0.0->simpletransformers) (0.0.43)\n",
      "Requirement already satisfied: base58 in /Users/dkaranikos/opt/anaconda3/lib/python3.8/site-packages (from streamlit->simpletransformers) (2.0.1)\n",
      "Requirement already satisfied: validators in /Users/dkaranikos/opt/anaconda3/lib/python3.8/site-packages (from streamlit->simpletransformers) (0.18.1)\n",
      "Requirement already satisfied: python-dateutil in /Users/dkaranikos/opt/anaconda3/lib/python3.8/site-packages (from streamlit->simpletransformers) (2.8.1)\n",
      "Requirement already satisfied: toml in /Users/dkaranikos/opt/anaconda3/lib/python3.8/site-packages (from streamlit->simpletransformers) (0.10.1)\n",
      "Requirement already satisfied: watchdog in /Users/dkaranikos/opt/anaconda3/lib/python3.8/site-packages (from streamlit->simpletransformers) (0.10.3)\n",
      "Requirement already satisfied: pyarrow in /Users/dkaranikos/opt/anaconda3/lib/python3.8/site-packages (from streamlit->simpletransformers) (2.0.0)\n",
      "Requirement already satisfied: cachetools>=4.0 in /Users/dkaranikos/opt/anaconda3/lib/python3.8/site-packages (from streamlit->simpletransformers) (4.1.1)\n",
      "Requirement already satisfied: click>=7.0 in /Users/dkaranikos/opt/anaconda3/lib/python3.8/site-packages (from streamlit->simpletransformers) (7.1.2)\n",
      "Requirement already satisfied: blinker in /Users/dkaranikos/opt/anaconda3/lib/python3.8/site-packages (from streamlit->simpletransformers) (1.4)\n",
      "Requirement already satisfied: altair>=3.2.0 in /Users/dkaranikos/opt/anaconda3/lib/python3.8/site-packages (from streamlit->simpletransformers) (4.1.0)\n",
      "Requirement already satisfied: tzlocal in /Users/dkaranikos/opt/anaconda3/lib/python3.8/site-packages (from streamlit->simpletransformers) (2.1)\n",
      "Requirement already satisfied: gitpython in /Users/dkaranikos/opt/anaconda3/lib/python3.8/site-packages (from streamlit->simpletransformers) (3.1.11)\n",
      "Requirement already satisfied: pydeck>=0.1.dev5 in /Users/dkaranikos/opt/anaconda3/lib/python3.8/site-packages (from streamlit->simpletransformers) (0.5.0)\n",
      "Requirement already satisfied: pillow>=6.2.0 in /Users/dkaranikos/opt/anaconda3/lib/python3.8/site-packages (from streamlit->simpletransformers) (8.0.1)\n",
      "Requirement already satisfied: astor in /Users/dkaranikos/opt/anaconda3/lib/python3.8/site-packages (from streamlit->simpletransformers) (0.8.1)\n",
      "Requirement already satisfied: tornado>=5.0 in /Users/dkaranikos/opt/anaconda3/lib/python3.8/site-packages (from streamlit->simpletransformers) (6.0.4)\n",
      "Requirement already satisfied: certifi>=2017.4.17 in /Users/dkaranikos/opt/anaconda3/lib/python3.8/site-packages (from requests->simpletransformers) (2020.6.20)\n",
      "Requirement already satisfied: chardet<4,>=3.0.2 in /Users/dkaranikos/opt/anaconda3/lib/python3.8/site-packages (from requests->simpletransformers) (3.0.4)\n",
      "Requirement already satisfied: urllib3!=1.25.0,!=1.25.1,<1.26,>=1.21.1 in /Users/dkaranikos/opt/anaconda3/lib/python3.8/site-packages (from requests->simpletransformers) (1.25.11)\n",
      "Requirement already satisfied: idna<3,>=2.5 in /Users/dkaranikos/opt/anaconda3/lib/python3.8/site-packages (from requests->simpletransformers) (2.10)\n",
      "Requirement already satisfied: shortuuid>=0.5.0 in /Users/dkaranikos/opt/anaconda3/lib/python3.8/site-packages (from wandb->simpletransformers) (1.0.1)\n",
      "Requirement already satisfied: docker-pycreds>=0.4.0 in /Users/dkaranikos/opt/anaconda3/lib/python3.8/site-packages (from wandb->simpletransformers) (0.4.0)\n",
      "Requirement already satisfied: subprocess32>=3.5.3 in /Users/dkaranikos/opt/anaconda3/lib/python3.8/site-packages (from wandb->simpletransformers) (3.5.4)\n",
      "Requirement already satisfied: configparser>=3.8.1 in /Users/dkaranikos/opt/anaconda3/lib/python3.8/site-packages (from wandb->simpletransformers) (5.0.1)\n",
      "Requirement already satisfied: psutil>=5.0.0 in /Users/dkaranikos/opt/anaconda3/lib/python3.8/site-packages (from wandb->simpletransformers) (5.7.2)\n",
      "Requirement already satisfied: promise<3,>=2.0 in /Users/dkaranikos/opt/anaconda3/lib/python3.8/site-packages (from wandb->simpletransformers) (2.3)\n",
      "Requirement already satisfied: PyYAML in /Users/dkaranikos/opt/anaconda3/lib/python3.8/site-packages (from wandb->simpletransformers) (5.3.1)\n",
      "Requirement already satisfied: sentry-sdk>=0.4.0 in /Users/dkaranikos/opt/anaconda3/lib/python3.8/site-packages (from wandb->simpletransformers) (0.19.4)\n",
      "Requirement already satisfied: pytz>=2017.2 in /Users/dkaranikos/opt/anaconda3/lib/python3.8/site-packages (from pandas->simpletransformers) (2020.1)\n",
      "Requirement already satisfied: pyparsing>=2.0.2 in /Users/dkaranikos/opt/anaconda3/lib/python3.8/site-packages (from packaging->transformers>=4.0.0->simpletransformers) (2.4.7)\n",
      "Requirement already satisfied: decorator>=3.4.0 in /Users/dkaranikos/opt/anaconda3/lib/python3.8/site-packages (from validators->streamlit->simpletransformers) (4.4.2)\n",
      "Requirement already satisfied: pathtools>=0.1.1 in /Users/dkaranikos/opt/anaconda3/lib/python3.8/site-packages (from watchdog->streamlit->simpletransformers) (0.1.2)\n",
      "Requirement already satisfied: jsonschema in /Users/dkaranikos/opt/anaconda3/lib/python3.8/site-packages (from altair>=3.2.0->streamlit->simpletransformers) (3.2.0)\n",
      "Requirement already satisfied: toolz in /Users/dkaranikos/opt/anaconda3/lib/python3.8/site-packages (from altair>=3.2.0->streamlit->simpletransformers) (0.11.1)\n",
      "Requirement already satisfied: entrypoints in /Users/dkaranikos/opt/anaconda3/lib/python3.8/site-packages (from altair>=3.2.0->streamlit->simpletransformers) (0.3)\n",
      "Requirement already satisfied: jinja2 in /Users/dkaranikos/opt/anaconda3/lib/python3.8/site-packages (from altair>=3.2.0->streamlit->simpletransformers) (2.11.2)\n",
      "Requirement already satisfied: gitdb<5,>=4.0.1 in /Users/dkaranikos/opt/anaconda3/lib/python3.8/site-packages (from gitpython->streamlit->simpletransformers) (4.0.5)\n",
      "Requirement already satisfied: traitlets>=4.3.2 in /Users/dkaranikos/opt/anaconda3/lib/python3.8/site-packages (from pydeck>=0.1.dev5->streamlit->simpletransformers) (5.0.5)\n",
      "Requirement already satisfied: ipywidgets>=7.0.0 in /Users/dkaranikos/opt/anaconda3/lib/python3.8/site-packages (from pydeck>=0.1.dev5->streamlit->simpletransformers) (7.5.1)\n",
      "Requirement already satisfied: ipykernel>=5.1.2; python_version >= \"3.4\" in /Users/dkaranikos/opt/anaconda3/lib/python3.8/site-packages (from pydeck>=0.1.dev5->streamlit->simpletransformers) (5.3.4)\n",
      "Requirement already satisfied: setuptools in /Users/dkaranikos/opt/anaconda3/lib/python3.8/site-packages (from jsonschema->altair>=3.2.0->streamlit->simpletransformers) (50.3.1.post20201107)\n"
     ]
    },
    {
     "name": "stdout",
     "output_type": "stream",
     "text": [
      "Requirement already satisfied: pyrsistent>=0.14.0 in /Users/dkaranikos/opt/anaconda3/lib/python3.8/site-packages (from jsonschema->altair>=3.2.0->streamlit->simpletransformers) (0.17.3)\n",
      "Requirement already satisfied: attrs>=17.4.0 in /Users/dkaranikos/opt/anaconda3/lib/python3.8/site-packages (from jsonschema->altair>=3.2.0->streamlit->simpletransformers) (20.3.0)\n",
      "Requirement already satisfied: MarkupSafe>=0.23 in /Users/dkaranikos/opt/anaconda3/lib/python3.8/site-packages (from jinja2->altair>=3.2.0->streamlit->simpletransformers) (1.1.1)\n",
      "Requirement already satisfied: smmap<4,>=3.0.1 in /Users/dkaranikos/opt/anaconda3/lib/python3.8/site-packages (from gitdb<5,>=4.0.1->gitpython->streamlit->simpletransformers) (3.0.4)\n",
      "Requirement already satisfied: ipython-genutils in /Users/dkaranikos/opt/anaconda3/lib/python3.8/site-packages (from traitlets>=4.3.2->pydeck>=0.1.dev5->streamlit->simpletransformers) (0.2.0)\n",
      "Requirement already satisfied: ipython>=4.0.0; python_version >= \"3.3\" in /Users/dkaranikos/opt/anaconda3/lib/python3.8/site-packages (from ipywidgets>=7.0.0->pydeck>=0.1.dev5->streamlit->simpletransformers) (7.19.0)\n",
      "Requirement already satisfied: nbformat>=4.2.0 in /Users/dkaranikos/opt/anaconda3/lib/python3.8/site-packages (from ipywidgets>=7.0.0->pydeck>=0.1.dev5->streamlit->simpletransformers) (5.0.8)\n",
      "Requirement already satisfied: widgetsnbextension~=3.5.0 in /Users/dkaranikos/opt/anaconda3/lib/python3.8/site-packages (from ipywidgets>=7.0.0->pydeck>=0.1.dev5->streamlit->simpletransformers) (3.5.1)\n",
      "Requirement already satisfied: appnope; platform_system == \"Darwin\" in /Users/dkaranikos/opt/anaconda3/lib/python3.8/site-packages (from ipykernel>=5.1.2; python_version >= \"3.4\"->pydeck>=0.1.dev5->streamlit->simpletransformers) (0.1.0)\n",
      "Requirement already satisfied: jupyter-client in /Users/dkaranikos/opt/anaconda3/lib/python3.8/site-packages (from ipykernel>=5.1.2; python_version >= \"3.4\"->pydeck>=0.1.dev5->streamlit->simpletransformers) (6.1.7)\n",
      "Requirement already satisfied: jedi>=0.10 in /Users/dkaranikos/opt/anaconda3/lib/python3.8/site-packages (from ipython>=4.0.0; python_version >= \"3.3\"->ipywidgets>=7.0.0->pydeck>=0.1.dev5->streamlit->simpletransformers) (0.17.1)\n",
      "Requirement already satisfied: pickleshare in /Users/dkaranikos/opt/anaconda3/lib/python3.8/site-packages (from ipython>=4.0.0; python_version >= \"3.3\"->ipywidgets>=7.0.0->pydeck>=0.1.dev5->streamlit->simpletransformers) (0.7.5)\n",
      "Requirement already satisfied: pygments in /Users/dkaranikos/opt/anaconda3/lib/python3.8/site-packages (from ipython>=4.0.0; python_version >= \"3.3\"->ipywidgets>=7.0.0->pydeck>=0.1.dev5->streamlit->simpletransformers) (2.7.2)\n",
      "Requirement already satisfied: pexpect>4.3; sys_platform != \"win32\" in /Users/dkaranikos/opt/anaconda3/lib/python3.8/site-packages (from ipython>=4.0.0; python_version >= \"3.3\"->ipywidgets>=7.0.0->pydeck>=0.1.dev5->streamlit->simpletransformers) (4.8.0)\n",
      "Requirement already satisfied: prompt-toolkit!=3.0.0,!=3.0.1,<3.1.0,>=2.0.0 in /Users/dkaranikos/opt/anaconda3/lib/python3.8/site-packages (from ipython>=4.0.0; python_version >= \"3.3\"->ipywidgets>=7.0.0->pydeck>=0.1.dev5->streamlit->simpletransformers) (3.0.8)\n",
      "Requirement already satisfied: backcall in /Users/dkaranikos/opt/anaconda3/lib/python3.8/site-packages (from ipython>=4.0.0; python_version >= \"3.3\"->ipywidgets>=7.0.0->pydeck>=0.1.dev5->streamlit->simpletransformers) (0.2.0)\n",
      "Requirement already satisfied: jupyter-core in /Users/dkaranikos/opt/anaconda3/lib/python3.8/site-packages (from nbformat>=4.2.0->ipywidgets>=7.0.0->pydeck>=0.1.dev5->streamlit->simpletransformers) (4.6.3)\n",
      "Requirement already satisfied: notebook>=4.4.1 in /Users/dkaranikos/opt/anaconda3/lib/python3.8/site-packages (from widgetsnbextension~=3.5.0->ipywidgets>=7.0.0->pydeck>=0.1.dev5->streamlit->simpletransformers) (6.1.4)\n",
      "Requirement already satisfied: pyzmq>=13 in /Users/dkaranikos/opt/anaconda3/lib/python3.8/site-packages (from jupyter-client->ipykernel>=5.1.2; python_version >= \"3.4\"->pydeck>=0.1.dev5->streamlit->simpletransformers) (19.0.2)\n",
      "Requirement already satisfied: parso<0.8.0,>=0.7.0 in /Users/dkaranikos/opt/anaconda3/lib/python3.8/site-packages (from jedi>=0.10->ipython>=4.0.0; python_version >= \"3.3\"->ipywidgets>=7.0.0->pydeck>=0.1.dev5->streamlit->simpletransformers) (0.7.0)\n",
      "Requirement already satisfied: ptyprocess>=0.5 in /Users/dkaranikos/opt/anaconda3/lib/python3.8/site-packages (from pexpect>4.3; sys_platform != \"win32\"->ipython>=4.0.0; python_version >= \"3.3\"->ipywidgets>=7.0.0->pydeck>=0.1.dev5->streamlit->simpletransformers) (0.6.0)\n",
      "Requirement already satisfied: wcwidth in /Users/dkaranikos/opt/anaconda3/lib/python3.8/site-packages (from prompt-toolkit!=3.0.0,!=3.0.1,<3.1.0,>=2.0.0->ipython>=4.0.0; python_version >= \"3.3\"->ipywidgets>=7.0.0->pydeck>=0.1.dev5->streamlit->simpletransformers) (0.2.5)\n",
      "Requirement already satisfied: prometheus-client in /Users/dkaranikos/opt/anaconda3/lib/python3.8/site-packages (from notebook>=4.4.1->widgetsnbextension~=3.5.0->ipywidgets>=7.0.0->pydeck>=0.1.dev5->streamlit->simpletransformers) (0.8.0)\n",
      "Requirement already satisfied: Send2Trash in /Users/dkaranikos/opt/anaconda3/lib/python3.8/site-packages (from notebook>=4.4.1->widgetsnbextension~=3.5.0->ipywidgets>=7.0.0->pydeck>=0.1.dev5->streamlit->simpletransformers) (1.5.0)\n",
      "Requirement already satisfied: terminado>=0.8.3 in /Users/dkaranikos/opt/anaconda3/lib/python3.8/site-packages (from notebook>=4.4.1->widgetsnbextension~=3.5.0->ipywidgets>=7.0.0->pydeck>=0.1.dev5->streamlit->simpletransformers) (0.9.1)\n",
      "Requirement already satisfied: nbconvert in /Users/dkaranikos/opt/anaconda3/lib/python3.8/site-packages (from notebook>=4.4.1->widgetsnbextension~=3.5.0->ipywidgets>=7.0.0->pydeck>=0.1.dev5->streamlit->simpletransformers) (6.0.7)\n",
      "Requirement already satisfied: argon2-cffi in /Users/dkaranikos/opt/anaconda3/lib/python3.8/site-packages (from notebook>=4.4.1->widgetsnbextension~=3.5.0->ipywidgets>=7.0.0->pydeck>=0.1.dev5->streamlit->simpletransformers) (20.1.0)\n",
      "Requirement already satisfied: jupyterlab-pygments in /Users/dkaranikos/opt/anaconda3/lib/python3.8/site-packages (from nbconvert->notebook>=4.4.1->widgetsnbextension~=3.5.0->ipywidgets>=7.0.0->pydeck>=0.1.dev5->streamlit->simpletransformers) (0.1.2)\n",
      "Requirement already satisfied: pandocfilters>=1.4.1 in /Users/dkaranikos/opt/anaconda3/lib/python3.8/site-packages (from nbconvert->notebook>=4.4.1->widgetsnbextension~=3.5.0->ipywidgets>=7.0.0->pydeck>=0.1.dev5->streamlit->simpletransformers) (1.4.3)\n",
      "Requirement already satisfied: nbclient<0.6.0,>=0.5.0 in /Users/dkaranikos/opt/anaconda3/lib/python3.8/site-packages (from nbconvert->notebook>=4.4.1->widgetsnbextension~=3.5.0->ipywidgets>=7.0.0->pydeck>=0.1.dev5->streamlit->simpletransformers) (0.5.1)\n",
      "Requirement already satisfied: defusedxml in /Users/dkaranikos/opt/anaconda3/lib/python3.8/site-packages (from nbconvert->notebook>=4.4.1->widgetsnbextension~=3.5.0->ipywidgets>=7.0.0->pydeck>=0.1.dev5->streamlit->simpletransformers) (0.6.0)\n",
      "Requirement already satisfied: testpath in /Users/dkaranikos/opt/anaconda3/lib/python3.8/site-packages (from nbconvert->notebook>=4.4.1->widgetsnbextension~=3.5.0->ipywidgets>=7.0.0->pydeck>=0.1.dev5->streamlit->simpletransformers) (0.4.4)\n",
      "Requirement already satisfied: bleach in /Users/dkaranikos/opt/anaconda3/lib/python3.8/site-packages (from nbconvert->notebook>=4.4.1->widgetsnbextension~=3.5.0->ipywidgets>=7.0.0->pydeck>=0.1.dev5->streamlit->simpletransformers) (3.2.1)\n",
      "Requirement already satisfied: mistune<2,>=0.8.1 in /Users/dkaranikos/opt/anaconda3/lib/python3.8/site-packages (from nbconvert->notebook>=4.4.1->widgetsnbextension~=3.5.0->ipywidgets>=7.0.0->pydeck>=0.1.dev5->streamlit->simpletransformers) (0.8.4)\n",
      "Requirement already satisfied: cffi>=1.0.0 in /Users/dkaranikos/opt/anaconda3/lib/python3.8/site-packages (from argon2-cffi->notebook>=4.4.1->widgetsnbextension~=3.5.0->ipywidgets>=7.0.0->pydeck>=0.1.dev5->streamlit->simpletransformers) (1.14.3)\n",
      "Requirement already satisfied: async-generator in /Users/dkaranikos/opt/anaconda3/lib/python3.8/site-packages (from nbclient<0.6.0,>=0.5.0->nbconvert->notebook>=4.4.1->widgetsnbextension~=3.5.0->ipywidgets>=7.0.0->pydeck>=0.1.dev5->streamlit->simpletransformers) (1.10)\n",
      "Requirement already satisfied: nest-asyncio in /Users/dkaranikos/opt/anaconda3/lib/python3.8/site-packages (from nbclient<0.6.0,>=0.5.0->nbconvert->notebook>=4.4.1->widgetsnbextension~=3.5.0->ipywidgets>=7.0.0->pydeck>=0.1.dev5->streamlit->simpletransformers) (1.4.2)\n",
      "Requirement already satisfied: webencodings in /Users/dkaranikos/opt/anaconda3/lib/python3.8/site-packages (from bleach->nbconvert->notebook>=4.4.1->widgetsnbextension~=3.5.0->ipywidgets>=7.0.0->pydeck>=0.1.dev5->streamlit->simpletransformers) (0.5.1)\n",
      "Requirement already satisfied: pycparser in /Users/dkaranikos/opt/anaconda3/lib/python3.8/site-packages (from cffi>=1.0.0->argon2-cffi->notebook>=4.4.1->widgetsnbextension~=3.5.0->ipywidgets>=7.0.0->pydeck>=0.1.dev5->streamlit->simpletransformers) (2.20)\n"
     ]
    },
    {
     "name": "stdout",
     "output_type": "stream",
     "text": [
      "Requirement already satisfied: transformers in /Users/dkaranikos/opt/anaconda3/lib/python3.8/site-packages (4.0.0)\n",
      "Requirement already satisfied: tqdm>=4.27 in /Users/dkaranikos/opt/anaconda3/lib/python3.8/site-packages (from transformers) (4.50.2)\n",
      "Requirement already satisfied: sacremoses in /Users/dkaranikos/opt/anaconda3/lib/python3.8/site-packages (from transformers) (0.0.43)\n",
      "Requirement already satisfied: requests in /Users/dkaranikos/opt/anaconda3/lib/python3.8/site-packages (from transformers) (2.24.0)\n",
      "Requirement already satisfied: regex!=2019.12.17 in /Users/dkaranikos/opt/anaconda3/lib/python3.8/site-packages (from transformers) (2020.10.15)\n",
      "Requirement already satisfied: tokenizers==0.9.4 in /Users/dkaranikos/opt/anaconda3/lib/python3.8/site-packages (from transformers) (0.9.4)\n",
      "Requirement already satisfied: packaging in /Users/dkaranikos/opt/anaconda3/lib/python3.8/site-packages (from transformers) (20.4)\n",
      "Requirement already satisfied: filelock in /Users/dkaranikos/opt/anaconda3/lib/python3.8/site-packages (from transformers) (3.0.12)\n",
      "Requirement already satisfied: numpy in /Users/dkaranikos/opt/anaconda3/lib/python3.8/site-packages (from transformers) (1.18.5)\n",
      "Requirement already satisfied: joblib in /Users/dkaranikos/opt/anaconda3/lib/python3.8/site-packages (from sacremoses->transformers) (0.17.0)\n",
      "Requirement already satisfied: click in /Users/dkaranikos/opt/anaconda3/lib/python3.8/site-packages (from sacremoses->transformers) (7.1.2)\n",
      "Requirement already satisfied: six in /Users/dkaranikos/opt/anaconda3/lib/python3.8/site-packages (from sacremoses->transformers) (1.15.0)\n",
      "Requirement already satisfied: idna<3,>=2.5 in /Users/dkaranikos/opt/anaconda3/lib/python3.8/site-packages (from requests->transformers) (2.10)\n",
      "Requirement already satisfied: urllib3!=1.25.0,!=1.25.1,<1.26,>=1.21.1 in /Users/dkaranikos/opt/anaconda3/lib/python3.8/site-packages (from requests->transformers) (1.25.11)\n",
      "Requirement already satisfied: certifi>=2017.4.17 in /Users/dkaranikos/opt/anaconda3/lib/python3.8/site-packages (from requests->transformers) (2020.6.20)\n",
      "Requirement already satisfied: chardet<4,>=3.0.2 in /Users/dkaranikos/opt/anaconda3/lib/python3.8/site-packages (from requests->transformers) (3.0.4)\n",
      "Requirement already satisfied: pyparsing>=2.0.2 in /Users/dkaranikos/opt/anaconda3/lib/python3.8/site-packages (from packaging->transformers) (2.4.7)\n",
      "Requirement already satisfied: tensorboardx in /Users/dkaranikos/opt/anaconda3/lib/python3.8/site-packages (2.1)\n",
      "Requirement already satisfied: numpy in /Users/dkaranikos/opt/anaconda3/lib/python3.8/site-packages (from tensorboardx) (1.18.5)\n",
      "Requirement already satisfied: six in /Users/dkaranikos/opt/anaconda3/lib/python3.8/site-packages (from tensorboardx) (1.15.0)\n",
      "Requirement already satisfied: protobuf>=3.8.0 in /Users/dkaranikos/opt/anaconda3/lib/python3.8/site-packages (from tensorboardx) (3.14.0)\n"
     ]
    }
   ],
   "source": [
    "import pandas as pd\n",
    "from contractions import contractions_dict\n",
    "\n",
    "!pip install simpletransformers\n",
    "!pip install transformers\n",
    "!pip install tensorboardx"
   ]
  },
  {
   "cell_type": "code",
   "execution_count": 2,
   "metadata": {},
   "outputs": [],
   "source": [
    "news_df=pd.read_csv('news.csv')"
   ]
  },
  {
   "cell_type": "code",
   "execution_count": 3,
   "metadata": {},
   "outputs": [
    {
     "data": {
      "text/plain": [
       "Index(['Unnamed: 0', 'title', 'text', 'label'], dtype='object')"
      ]
     },
     "execution_count": 3,
     "metadata": {},
     "output_type": "execute_result"
    }
   ],
   "source": [
    "news_df.columns"
   ]
  },
  {
   "cell_type": "code",
   "execution_count": 4,
   "metadata": {},
   "outputs": [],
   "source": [
    "news_df['prediction_label']=0\n",
    "news_df.loc[news_df['label']=='FAKE', 'prediction_label']=1"
   ]
  },
  {
   "cell_type": "code",
   "execution_count": 5,
   "metadata": {},
   "outputs": [],
   "source": [
    "news_df.drop(columns=['Unnamed: 0'], inplace=True)"
   ]
  },
  {
   "cell_type": "code",
   "execution_count": 6,
   "metadata": {},
   "outputs": [],
   "source": [
    "news_df['text']=news_df['text'].apply(lambda x: x.lower())"
   ]
  },
  {
   "cell_type": "code",
   "execution_count": 7,
   "metadata": {},
   "outputs": [
    {
     "data": {
      "text/html": [
       "<div>\n",
       "<style scoped>\n",
       "    .dataframe tbody tr th:only-of-type {\n",
       "        vertical-align: middle;\n",
       "    }\n",
       "\n",
       "    .dataframe tbody tr th {\n",
       "        vertical-align: top;\n",
       "    }\n",
       "\n",
       "    .dataframe thead th {\n",
       "        text-align: right;\n",
       "    }\n",
       "</style>\n",
       "<table border=\"1\" class=\"dataframe\">\n",
       "  <thead>\n",
       "    <tr style=\"text-align: right;\">\n",
       "      <th></th>\n",
       "      <th>title</th>\n",
       "      <th>text</th>\n",
       "      <th>label</th>\n",
       "      <th>prediction_label</th>\n",
       "    </tr>\n",
       "  </thead>\n",
       "  <tbody>\n",
       "    <tr>\n",
       "      <th>0</th>\n",
       "      <td>You Can Smell Hillary’s Fear</td>\n",
       "      <td>daniel greenfield, a shillman journalism fello...</td>\n",
       "      <td>FAKE</td>\n",
       "      <td>1</td>\n",
       "    </tr>\n",
       "    <tr>\n",
       "      <th>1</th>\n",
       "      <td>Watch The Exact Moment Paul Ryan Committed Pol...</td>\n",
       "      <td>google pinterest digg linkedin reddit stumbleu...</td>\n",
       "      <td>FAKE</td>\n",
       "      <td>1</td>\n",
       "    </tr>\n",
       "    <tr>\n",
       "      <th>2</th>\n",
       "      <td>Kerry to go to Paris in gesture of sympathy</td>\n",
       "      <td>u.s. secretary of state john f. kerry said mon...</td>\n",
       "      <td>REAL</td>\n",
       "      <td>0</td>\n",
       "    </tr>\n",
       "    <tr>\n",
       "      <th>3</th>\n",
       "      <td>Bernie supporters on Twitter erupt in anger ag...</td>\n",
       "      <td>— kaydee king (@kaydeeking) november 9, 2016 t...</td>\n",
       "      <td>FAKE</td>\n",
       "      <td>1</td>\n",
       "    </tr>\n",
       "    <tr>\n",
       "      <th>4</th>\n",
       "      <td>The Battle of New York: Why This Primary Matters</td>\n",
       "      <td>it's primary day in new york and front-runners...</td>\n",
       "      <td>REAL</td>\n",
       "      <td>0</td>\n",
       "    </tr>\n",
       "  </tbody>\n",
       "</table>\n",
       "</div>"
      ],
      "text/plain": [
       "                                               title  \\\n",
       "0                       You Can Smell Hillary’s Fear   \n",
       "1  Watch The Exact Moment Paul Ryan Committed Pol...   \n",
       "2        Kerry to go to Paris in gesture of sympathy   \n",
       "3  Bernie supporters on Twitter erupt in anger ag...   \n",
       "4   The Battle of New York: Why This Primary Matters   \n",
       "\n",
       "                                                text label  prediction_label  \n",
       "0  daniel greenfield, a shillman journalism fello...  FAKE                 1  \n",
       "1  google pinterest digg linkedin reddit stumbleu...  FAKE                 1  \n",
       "2  u.s. secretary of state john f. kerry said mon...  REAL                 0  \n",
       "3  — kaydee king (@kaydeeking) november 9, 2016 t...  FAKE                 1  \n",
       "4  it's primary day in new york and front-runners...  REAL                 0  "
      ]
     },
     "execution_count": 7,
     "metadata": {},
     "output_type": "execute_result"
    }
   ],
   "source": [
    "news_df.head()"
   ]
  },
  {
   "cell_type": "code",
   "execution_count": 8,
   "metadata": {},
   "outputs": [],
   "source": [
    "news_df.drop(columns=['title', 'label'], inplace=True)"
   ]
  },
  {
   "cell_type": "code",
   "execution_count": 9,
   "metadata": {},
   "outputs": [],
   "source": [
    "news_df.rename(columns={'prediction_label':'label'}, inplace=True)"
   ]
  },
  {
   "cell_type": "code",
   "execution_count": 10,
   "metadata": {},
   "outputs": [
    {
     "data": {
      "text/html": [
       "<div>\n",
       "<style scoped>\n",
       "    .dataframe tbody tr th:only-of-type {\n",
       "        vertical-align: middle;\n",
       "    }\n",
       "\n",
       "    .dataframe tbody tr th {\n",
       "        vertical-align: top;\n",
       "    }\n",
       "\n",
       "    .dataframe thead th {\n",
       "        text-align: right;\n",
       "    }\n",
       "</style>\n",
       "<table border=\"1\" class=\"dataframe\">\n",
       "  <thead>\n",
       "    <tr style=\"text-align: right;\">\n",
       "      <th></th>\n",
       "      <th>text</th>\n",
       "      <th>label</th>\n",
       "    </tr>\n",
       "  </thead>\n",
       "  <tbody>\n",
       "    <tr>\n",
       "      <th>0</th>\n",
       "      <td>daniel greenfield, a shillman journalism fello...</td>\n",
       "      <td>1</td>\n",
       "    </tr>\n",
       "    <tr>\n",
       "      <th>1</th>\n",
       "      <td>google pinterest digg linkedin reddit stumbleu...</td>\n",
       "      <td>1</td>\n",
       "    </tr>\n",
       "    <tr>\n",
       "      <th>2</th>\n",
       "      <td>u.s. secretary of state john f. kerry said mon...</td>\n",
       "      <td>0</td>\n",
       "    </tr>\n",
       "    <tr>\n",
       "      <th>3</th>\n",
       "      <td>— kaydee king (@kaydeeking) november 9, 2016 t...</td>\n",
       "      <td>1</td>\n",
       "    </tr>\n",
       "    <tr>\n",
       "      <th>4</th>\n",
       "      <td>it's primary day in new york and front-runners...</td>\n",
       "      <td>0</td>\n",
       "    </tr>\n",
       "  </tbody>\n",
       "</table>\n",
       "</div>"
      ],
      "text/plain": [
       "                                                text  label\n",
       "0  daniel greenfield, a shillman journalism fello...      1\n",
       "1  google pinterest digg linkedin reddit stumbleu...      1\n",
       "2  u.s. secretary of state john f. kerry said mon...      0\n",
       "3  — kaydee king (@kaydeeking) november 9, 2016 t...      1\n",
       "4  it's primary day in new york and front-runners...      0"
      ]
     },
     "execution_count": 10,
     "metadata": {},
     "output_type": "execute_result"
    }
   ],
   "source": [
    "news_df.head()"
   ]
  },
  {
   "cell_type": "code",
   "execution_count": 11,
   "metadata": {},
   "outputs": [],
   "source": [
    "def expand_contractions(text):\n",
    "    for i in text:\n",
    "        if i in contractions_dict.keys():\n",
    "            i=re.sub(i, contractions_dict[i], i)\n",
    "    return text\n",
    "\n",
    "news_df['text']=news_df['text'].apply(lambda x: expand_contractions(x))"
   ]
  },
  {
   "cell_type": "code",
   "execution_count": 14,
   "metadata": {},
   "outputs": [],
   "source": [
    "from sklearn.model_selection import train_test_split\n",
    "\n",
    "train, test=train_test_split(news_df, test_size=0.3, stratify=news_df['label'], random_state=42)"
   ]
  },
  {
   "cell_type": "code",
   "execution_count": 16,
   "metadata": {},
   "outputs": [
    {
     "name": "stderr",
     "output_type": "stream",
     "text": [
      "Some weights of the model checkpoint at bert-base-uncased were not used when initializing BertForSequenceClassification: ['cls.predictions.bias', 'cls.predictions.transform.dense.weight', 'cls.predictions.transform.dense.bias', 'cls.predictions.decoder.weight', 'cls.seq_relationship.weight', 'cls.seq_relationship.bias', 'cls.predictions.transform.LayerNorm.weight', 'cls.predictions.transform.LayerNorm.bias']\n",
      "- This IS expected if you are initializing BertForSequenceClassification from the checkpoint of a model trained on another task or with another architecture (e.g. initializing a BertForSequenceClassification model from a BertForPreTraining model).\n",
      "- This IS NOT expected if you are initializing BertForSequenceClassification from the checkpoint of a model that you expect to be exactly identical (initializing a BertForSequenceClassification model from a BertForSequenceClassification model).\n",
      "Some weights of BertForSequenceClassification were not initialized from the model checkpoint at bert-base-uncased and are newly initialized: ['classifier.weight', 'classifier.bias']\n",
      "You should probably TRAIN this model on a down-stream task to be able to use it for predictions and inference.\n"
     ]
    }
   ],
   "source": [
    "from simpletransformers.classification import ClassificationModel\n",
    "\n",
    "bertModel=ClassificationModel('bert', 'bert-base-uncased', use_cuda=False,\n",
    "                         args={\n",
    "                             'num_train_epochs':1,\n",
    "                             'learning_rate':5e-5,\n",
    "                             'max_seq_length': 128,\n",
    "                             'overwrite_output_dir': True,\n",
    "                             'train_batch_size': 8,\n",
    "                             'eval_batch_size': 8\n",
    "                         })"
   ]
  },
  {
   "cell_type": "code",
   "execution_count": null,
   "metadata": {
    "scrolled": false
   },
   "outputs": [],
   "source": [
    "bertModel.train_model(train)"
   ]
  },
  {
   "cell_type": "code",
   "execution_count": 18,
   "metadata": {},
   "outputs": [
    {
     "name": "stderr",
     "output_type": "stream",
     "text": [
      "/Users/dkaranikos/opt/anaconda3/lib/python3.8/site-packages/simpletransformers/classification/classification_model.py:965: UserWarning: Dataframe headers not specified. Falling back to using column 0 as text and column 1 as labels.\n",
      "  warnings.warn(\n"
     ]
    },
    {
     "data": {
      "application/vnd.jupyter.widget-view+json": {
       "model_id": "e830f380025648b899db762a5e12fc98",
       "version_major": 2,
       "version_minor": 0
      },
      "text/plain": [
       "HBox(children=(HTML(value=''), FloatProgress(value=0.0, max=1901.0), HTML(value='')))"
      ]
     },
     "metadata": {},
     "output_type": "display_data"
    },
    {
     "name": "stdout",
     "output_type": "stream",
     "text": [
      "\n"
     ]
    },
    {
     "data": {
      "application/vnd.jupyter.widget-view+json": {
       "model_id": "89ab0143f68b43a0af167090afac4baa",
       "version_major": 2,
       "version_minor": 0
      },
      "text/plain": [
       "HBox(children=(HTML(value='Running Evaluation'), FloatProgress(value=0.0, max=238.0), HTML(value='')))"
      ]
     },
     "metadata": {},
     "output_type": "display_data"
    },
    {
     "name": "stdout",
     "output_type": "stream",
     "text": [
      "\n"
     ]
    }
   ],
   "source": [
    "result, model_outputs, wrong_predictions=bertModel.eval_model(test)"
   ]
  },
  {
   "cell_type": "code",
   "execution_count": 19,
   "metadata": {},
   "outputs": [
    {
     "data": {
      "text/plain": [
       "{'mcc': 0.9466692033479123,\n",
       " 'tp': 911,\n",
       " 'tn': 939,\n",
       " 'fp': 13,\n",
       " 'fn': 38,\n",
       " 'eval_loss': 0.10117542303530225}"
      ]
     },
     "execution_count": 19,
     "metadata": {},
     "output_type": "execute_result"
    }
   ],
   "source": [
    "result"
   ]
  },
  {
   "cell_type": "code",
   "execution_count": 15,
   "metadata": {},
   "outputs": [
    {
     "name": "stderr",
     "output_type": "stream",
     "text": [
      "Some weights of the model checkpoint at roberta-base were not used when initializing RobertaForSequenceClassification: ['lm_head.bias', 'lm_head.dense.weight', 'lm_head.dense.bias', 'lm_head.layer_norm.weight', 'lm_head.layer_norm.bias', 'lm_head.decoder.weight']\n",
      "- This IS expected if you are initializing RobertaForSequenceClassification from the checkpoint of a model trained on another task or with another architecture (e.g. initializing a BertForSequenceClassification model from a BertForPreTraining model).\n",
      "- This IS NOT expected if you are initializing RobertaForSequenceClassification from the checkpoint of a model that you expect to be exactly identical (initializing a BertForSequenceClassification model from a BertForSequenceClassification model).\n",
      "Some weights of RobertaForSequenceClassification were not initialized from the model checkpoint at roberta-base and are newly initialized: ['classifier.dense.weight', 'classifier.dense.bias', 'classifier.out_proj.weight', 'classifier.out_proj.bias']\n",
      "You should probably TRAIN this model on a down-stream task to be able to use it for predictions and inference.\n"
     ]
    }
   ],
   "source": [
    "robertaModel=ClassificationModel('roberta', 'roberta-base', use_cuda=False,\n",
    "                         args={\n",
    "                             'num_train_epochs':1,\n",
    "                             'learning_rate':5e-5,\n",
    "                             'max_seq_length': 128,\n",
    "                             'overwrite_output_dir': True,\n",
    "                             'train_batch_size': 8,\n",
    "                             'eval_batch_size': 8,\n",
    "                             'sliding_window': True,\n",
    "                             'wandb_project': 'visualizations'\n",
    "                         })\n"
   ]
  },
  {
   "cell_type": "code",
   "execution_count": 17,
   "metadata": {},
   "outputs": [
    {
     "name": "stderr",
     "output_type": "stream",
     "text": [
      "/Users/dkaranikos/opt/anaconda3/lib/python3.8/site-packages/simpletransformers/classification/classification_model.py:386: UserWarning: Dataframe headers not specified. Falling back to using column 0 as text and column 1 as labels.\n",
      "  warnings.warn(\n"
     ]
    },
    {
     "data": {
      "application/vnd.jupyter.widget-view+json": {
       "model_id": "30ebdae66b4e4fa694769beca94337a3",
       "version_major": 2,
       "version_minor": 0
      },
      "text/plain": [
       "HBox(children=(HTML(value=''), FloatProgress(value=0.0, max=4434.0), HTML(value='')))"
      ]
     },
     "metadata": {},
     "output_type": "display_data"
    },
    {
     "name": "stdout",
     "output_type": "stream",
     "text": [
      "\n"
     ]
    },
    {
     "data": {
      "application/vnd.jupyter.widget-view+json": {
       "model_id": "d1295aaf64b1463fa6d4bffebbac9b02",
       "version_major": 2,
       "version_minor": 0
      },
      "text/plain": [
       "HBox(children=(HTML(value='Epoch'), FloatProgress(value=0.0, max=1.0), HTML(value='')))"
      ]
     },
     "metadata": {},
     "output_type": "display_data"
    },
    {
     "name": "stderr",
     "output_type": "stream",
     "text": [
      "\u001b[34m\u001b[1mwandb\u001b[0m: Currently logged in as: \u001b[33maud-z\u001b[0m (use `wandb login --relogin` to force relogin)\n"
     ]
    },
    {
     "data": {
      "text/html": [
       "\n",
       "                Tracking run with wandb version 0.10.12<br/>\n",
       "                Syncing run <strong style=\"color:#cdcd00\">devout-pond-3</strong> to <a href=\"https://wandb.ai\" target=\"_blank\">Weights & Biases</a> <a href=\"https://docs.wandb.com/integrations/jupyter.html\" target=\"_blank\">(Documentation)</a>.<br/>\n",
       "                Project page: <a href=\"https://wandb.ai/aud-z/visualizations\" target=\"_blank\">https://wandb.ai/aud-z/visualizations</a><br/>\n",
       "                Run page: <a href=\"https://wandb.ai/aud-z/visualizations/runs/1sq5ukzt\" target=\"_blank\">https://wandb.ai/aud-z/visualizations/runs/1sq5ukzt</a><br/>\n",
       "                Run data is saved locally in <code>/Users/dkaranikos/Documents/GitHub/ai-final-project_1/wandb/run-20201208_083104-1sq5ukzt</code><br/><br/>\n",
       "            "
      ],
      "text/plain": [
       "<IPython.core.display.HTML object>"
      ]
     },
     "metadata": {},
     "output_type": "display_data"
    },
    {
     "data": {
      "application/vnd.jupyter.widget-view+json": {
       "model_id": "675799e5968d41498c9751263df1ac1e",
       "version_major": 2,
       "version_minor": 0
      },
      "text/plain": [
       "HBox(children=(HTML(value='Running Epoch 0 of 1'), FloatProgress(value=0.0, max=6067.0), HTML(value='')))"
      ]
     },
     "metadata": {},
     "output_type": "display_data"
    },
    {
     "name": "stderr",
     "output_type": "stream",
     "text": [
      "/Users/dkaranikos/opt/anaconda3/lib/python3.8/site-packages/torch/optim/lr_scheduler.py:216: UserWarning: Please also save or load the state of the optimizer when saving or loading the scheduler.\n",
      "  warnings.warn(SAVE_STATE_WARNING, UserWarning)\n"
     ]
    },
    {
     "name": "stdout",
     "output_type": "stream",
     "text": [
      "\n",
      "\n"
     ]
    },
    {
     "data": {
      "text/plain": [
       "(6067, 0.1256677008762772)"
      ]
     },
     "execution_count": 17,
     "metadata": {},
     "output_type": "execute_result"
    }
   ],
   "source": [
    "robertaModel.train_model(train)"
   ]
  },
  {
   "cell_type": "code",
   "execution_count": 18,
   "metadata": {},
   "outputs": [
    {
     "name": "stderr",
     "output_type": "stream",
     "text": [
      "/Users/dkaranikos/opt/anaconda3/lib/python3.8/site-packages/simpletransformers/classification/classification_model.py:965: UserWarning: Dataframe headers not specified. Falling back to using column 0 as text and column 1 as labels.\n",
      "  warnings.warn(\n"
     ]
    },
    {
     "data": {
      "application/vnd.jupyter.widget-view+json": {
       "model_id": "223766b0dc254267b57db3d4898060f1",
       "version_major": 2,
       "version_minor": 0
      },
      "text/plain": [
       "HBox(children=(HTML(value=''), FloatProgress(value=0.0, max=1901.0), HTML(value='')))"
      ]
     },
     "metadata": {},
     "output_type": "display_data"
    },
    {
     "name": "stdout",
     "output_type": "stream",
     "text": [
      "\n"
     ]
    },
    {
     "data": {
      "application/vnd.jupyter.widget-view+json": {
       "model_id": "acdfac61eecf4b5282644bb975f98a2b",
       "version_major": 2,
       "version_minor": 0
      },
      "text/plain": [
       "HBox(children=(HTML(value='Running Evaluation'), FloatProgress(value=0.0, max=2663.0), HTML(value='')))"
      ]
     },
     "metadata": {},
     "output_type": "display_data"
    },
    {
     "name": "stdout",
     "output_type": "stream",
     "text": [
      "\n"
     ]
    },
    {
     "data": {
      "text/html": [
       "Finishing last run (ID:1sq5ukzt) before initializing another..."
      ],
      "text/plain": [
       "<IPython.core.display.HTML object>"
      ]
     },
     "metadata": {},
     "output_type": "display_data"
    },
    {
     "data": {
      "text/html": [
       "<br/>Waiting for W&B process to finish, PID 1855<br/>Program ended successfully."
      ],
      "text/plain": [
       "<IPython.core.display.HTML object>"
      ]
     },
     "metadata": {},
     "output_type": "display_data"
    },
    {
     "data": {
      "application/vnd.jupyter.widget-view+json": {
       "model_id": "",
       "version_major": 2,
       "version_minor": 0
      },
      "text/plain": [
       "VBox(children=(Label(value=' 0.03MB of 0.03MB uploaded (0.00MB deduped)\\r'), FloatProgress(value=1.0, max=1.0)…"
      ]
     },
     "metadata": {},
     "output_type": "display_data"
    },
    {
     "data": {
      "text/html": [
       "Find user logs for this run at: <code>/Users/dkaranikos/Documents/GitHub/ai-final-project_1/wandb/run-20201208_083104-1sq5ukzt/logs/debug.log</code>"
      ],
      "text/plain": [
       "<IPython.core.display.HTML object>"
      ]
     },
     "metadata": {},
     "output_type": "display_data"
    },
    {
     "data": {
      "text/html": [
       "Find internal logs for this run at: <code>/Users/dkaranikos/Documents/GitHub/ai-final-project_1/wandb/run-20201208_083104-1sq5ukzt/logs/debug-internal.log</code>"
      ],
      "text/plain": [
       "<IPython.core.display.HTML object>"
      ]
     },
     "metadata": {},
     "output_type": "display_data"
    },
    {
     "data": {
      "text/html": [
       "<h3>Run summary:</h3><br/><style>\n",
       "    table.wandb td:nth-child(1) { padding: 0 10px; text-align: right }\n",
       "    </style><table class=\"wandb\">\n",
       "<tr><td>Training loss</td><td>0.01167</td></tr><tr><td>lr</td><td>0.0</td></tr><tr><td>global_step</td><td>6050</td></tr><tr><td>_step</td><td>120</td></tr><tr><td>_runtime</td><td>39870</td></tr><tr><td>_timestamp</td><td>1607484934</td></tr></table>"
      ],
      "text/plain": [
       "<IPython.core.display.HTML object>"
      ]
     },
     "metadata": {},
     "output_type": "display_data"
    },
    {
     "data": {
      "text/html": [
       "<h3>Run history:</h3><br/><style>\n",
       "    table.wandb td:nth-child(1) { padding: 0 10px; text-align: right }\n",
       "    </style><table class=\"wandb\">\n",
       "<tr><td>Training loss</td><td>▇█▁▁▁▅▂▁▁▁▁▁▃▁▂▁▁▁▁▁▁▁▁▁▁▁▁▁▁▄▁▁█▁▁▁▁▁▁▁</td></tr><tr><td>lr</td><td>▂▅████▇▇▇▇▇▆▆▆▆▆▅▅▅▅▅▅▄▄▄▄▄▃▃▃▃▃▂▂▂▂▂▁▁▁</td></tr><tr><td>global_step</td><td>▁▁▁▂▂▂▂▂▂▃▃▃▃▃▄▄▄▄▄▄▅▅▅▅▅▅▆▆▆▆▆▇▇▇▇▇▇███</td></tr><tr><td>_step</td><td>▁▁▁▂▂▂▂▂▂▃▃▃▃▃▄▄▄▄▄▄▅▅▅▅▅▅▆▆▆▆▆▇▇▇▇▇▇███</td></tr><tr><td>_runtime</td><td>▁▁▁▁▂▂▂▂▂▃▃▃▃▃▃▄▄▄▄▄▄▅▅▅▅▅▆▆▆▆▆▇▇▇▇▇▇███</td></tr><tr><td>_timestamp</td><td>▁▁▁▁▂▂▂▂▂▃▃▃▃▃▃▄▄▄▄▄▄▅▅▅▅▅▆▆▆▆▆▇▇▇▇▇▇███</td></tr></table><br/>"
      ],
      "text/plain": [
       "<IPython.core.display.HTML object>"
      ]
     },
     "metadata": {},
     "output_type": "display_data"
    },
    {
     "data": {
      "text/html": [
       "Synced 5 W&B file(s), 1 media file(s), 0 artifact file(s) and 0 other file(s)"
      ],
      "text/plain": [
       "<IPython.core.display.HTML object>"
      ]
     },
     "metadata": {},
     "output_type": "display_data"
    },
    {
     "data": {
      "text/html": [
       "\n",
       "                    <br/>Synced <strong style=\"color:#cdcd00\">devout-pond-3</strong>: <a href=\"https://wandb.ai/aud-z/visualizations/runs/1sq5ukzt\" target=\"_blank\">https://wandb.ai/aud-z/visualizations/runs/1sq5ukzt</a><br/>\n",
       "                "
      ],
      "text/plain": [
       "<IPython.core.display.HTML object>"
      ]
     },
     "metadata": {},
     "output_type": "display_data"
    },
    {
     "data": {
      "text/html": [
       "...Successfully finished last run (ID:1sq5ukzt). Initializing new run:<br/><br/>"
      ],
      "text/plain": [
       "<IPython.core.display.HTML object>"
      ]
     },
     "metadata": {},
     "output_type": "display_data"
    },
    {
     "data": {
      "text/html": [
       "\n",
       "                Tracking run with wandb version 0.10.12<br/>\n",
       "                Syncing run <strong style=\"color:#cdcd00\">wobbly-terrain-4</strong> to <a href=\"https://wandb.ai\" target=\"_blank\">Weights & Biases</a> <a href=\"https://docs.wandb.com/integrations/jupyter.html\" target=\"_blank\">(Documentation)</a>.<br/>\n",
       "                Project page: <a href=\"https://wandb.ai/aud-z/visualizations\" target=\"_blank\">https://wandb.ai/aud-z/visualizations</a><br/>\n",
       "                Run page: <a href=\"https://wandb.ai/aud-z/visualizations/runs/10gg9mri\" target=\"_blank\">https://wandb.ai/aud-z/visualizations/runs/10gg9mri</a><br/>\n",
       "                Run data is saved locally in <code>/Users/dkaranikos/Documents/GitHub/ai-final-project_1/wandb/run-20201208_210329-10gg9mri</code><br/><br/>\n",
       "            "
      ],
      "text/plain": [
       "<IPython.core.display.HTML object>"
      ]
     },
     "metadata": {},
     "output_type": "display_data"
    }
   ],
   "source": [
    "result, model_outputs, wrong_predictions=robertaModel.eval_model(test)"
   ]
  },
  {
   "cell_type": "code",
   "execution_count": 19,
   "metadata": {
    "scrolled": true
   },
   "outputs": [
    {
     "data": {
      "text/plain": [
       "{'mcc': 0.9842844227122913,\n",
       " 'tp': 936,\n",
       " 'tn': 950,\n",
       " 'fp': 2,\n",
       " 'fn': 13,\n",
       " 'eval_loss': 0.08020694609767666}"
      ]
     },
     "execution_count": 19,
     "metadata": {},
     "output_type": "execute_result"
    }
   ],
   "source": [
    "result"
   ]
  },
  {
   "cell_type": "code",
   "execution_count": null,
   "metadata": {},
   "outputs": [],
   "source": []
  }
 ],
 "metadata": {
  "kernelspec": {
   "display_name": "Python 3",
   "language": "python",
   "name": "python3"
  },
  "language_info": {
   "codemirror_mode": {
    "name": "ipython",
    "version": 3
   },
   "file_extension": ".py",
   "mimetype": "text/x-python",
   "name": "python",
   "nbconvert_exporter": "python",
   "pygments_lexer": "ipython3",
   "version": "3.8.5"
  }
 },
 "nbformat": 4,
 "nbformat_minor": 4
}
